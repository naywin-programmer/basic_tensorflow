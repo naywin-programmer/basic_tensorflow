{
  "nbformat": 4,
  "nbformat_minor": 0,
  "metadata": {
    "colab": {
      "name": "02_Tensorflow.ipynb",
      "provenance": [],
      "authorship_tag": "ABX9TyMrGt7aSXueRDXoaq9ujtrF",
      "include_colab_link": true
    },
    "kernelspec": {
      "name": "python3",
      "display_name": "Python 3"
    }
  },
  "cells": [
    {
      "cell_type": "markdown",
      "metadata": {
        "id": "view-in-github",
        "colab_type": "text"
      },
      "source": [
        "<a href=\"https://colab.research.google.com/github/naywin-programmer/basic_tensorflow/blob/master/02_Tensorflow.ipynb\" target=\"_parent\"><img src=\"https://colab.research.google.com/assets/colab-badge.svg\" alt=\"Open In Colab\"/></a>"
      ]
    },
    {
      "cell_type": "code",
      "metadata": {
        "id": "5e68XBpGNbC6",
        "colab_type": "code",
        "colab": {}
      },
      "source": [
        "import tensorflow as tf\n",
        "tf.logging.set_verbosity(tf.logging.ERROR)\n",
        "import numpy as np\n",
        "\n",
        "celsius_q = np.array([-40, -10, 0, 8, 15, 22, 38], dtype=float)\n",
        "fahrenheit_a = np.array([-40, 14, 32, 46, 59, 72, 100], dtype=float)\n",
        "\n",
        "# for i,c in enumerate(celsius_q):\n",
        "#   print(\"{} degree cel = {} degree feh\".format(c, fahrenheit_a[i]))"
      ],
      "execution_count": 0,
      "outputs": []
    },
    {
      "cell_type": "code",
      "metadata": {
        "id": "UTTsTBchgEVH",
        "colab_type": "code",
        "colab": {}
      },
      "source": [
        "l0 = tf.keras.layers.Dense(units=1, input_shape=[1])"
      ],
      "execution_count": 0,
      "outputs": []
    },
    {
      "cell_type": "code",
      "metadata": {
        "id": "XOnoX0KYDfIo",
        "colab_type": "code",
        "colab": {}
      },
      "source": [
        "model = tf.keras.Sequential([l0])"
      ],
      "execution_count": 0,
      "outputs": []
    },
    {
      "cell_type": "code",
      "metadata": {
        "id": "f5_ODGWFDlw7",
        "colab_type": "code",
        "colab": {}
      },
      "source": [
        "model.compile(loss='mean_squared_error', optimizer=tf.keras.optimizers.Adam(0.1))"
      ],
      "execution_count": 0,
      "outputs": []
    },
    {
      "cell_type": "code",
      "metadata": {
        "id": "UURNwsCNPt2F",
        "colab_type": "code",
        "colab": {
          "base_uri": "https://localhost:8080/",
          "height": 34
        },
        "outputId": "1b776291-1c5c-4057-cdd6-d7dc2d905b42"
      },
      "source": [
        "history = model.fit(celsius_q, fahrenheit_a, epochs=500, verbose=False)\n",
        "print(\"Finish training model\")"
      ],
      "execution_count": 8,
      "outputs": [
        {
          "output_type": "stream",
          "text": [
            "Finish training model\n"
          ],
          "name": "stdout"
        }
      ]
    },
    {
      "cell_type": "code",
      "metadata": {
        "id": "dhRZO4cHRF_8",
        "colab_type": "code",
        "colab": {
          "base_uri": "https://localhost:8080/",
          "height": 296
        },
        "outputId": "b2ec9eac-679b-4be5-bfa8-a31bb521cdaa"
      },
      "source": [
        "import matplotlib.pyplot as plt\n",
        "plt.xlabel(\"Epoch Number\")\n",
        "plt.ylabel(\"Loss Magnitude\")\n",
        "plt.plot(history.history[\"loss\"])"
      ],
      "execution_count": 9,
      "outputs": [
        {
          "output_type": "execute_result",
          "data": {
            "text/plain": [
              "[<matplotlib.lines.Line2D at 0x7f05efe8acf8>]"
            ]
          },
          "metadata": {
            "tags": []
          },
          "execution_count": 9
        },
        {
          "output_type": "display_data",
          "data": {
            "image/png": "[encoded data removed]",
            "text/plain": [
              "<Figure size 432x288 with 1 Axes>"
            ]
          },
          "metadata": {
            "tags": []
          }
        }
      ]
    },
    {
      "cell_type": "code",
      "metadata": {
        "id": "pAU0SV6-Si57",
        "colab_type": "code",
        "colab": {
          "base_uri": "https://localhost:8080/",
          "height": 34
        },
        "outputId": "737e4fd5-ac2e-42fe-d099-4de8dd0d6498"
      },
      "source": [
        "print(model.predict([100.0]))"
      ],
      "execution_count": 10,
      "outputs": [
        {
          "output_type": "stream",
          "text": [
            "[[211.7474]]\n"
          ],
          "name": "stdout"
        }
      ]
    },
    {
      "cell_type": "code",
      "metadata": {
        "id": "gSmYiBz8TAFZ",
        "colab_type": "code",
        "colab": {
          "base_uri": "https://localhost:8080/",
          "height": 34
        },
        "outputId": "455cbcd7-c3cf-4fe4-9ec8-1bcb4e69c2cf"
      },
      "source": [
        "# looking at the layer weights or internal variables of the Dense layer\n",
        "print(\"These are the layer variables: {}\".format(l0.get_weights()))"
      ],
      "execution_count": 11,
      "outputs": [
        {
          "output_type": "stream",
          "text": [
            "These are the layer variables: [array([[1.7979494]], dtype=float32), array([31.952477], dtype=float32)]\n"
          ],
          "name": "stdout"
        }
      ]
    },
    {
      "cell_type": "code",
      "metadata": {
        "id": "bGNNpd7BVuQZ",
        "colab_type": "code",
        "colab": {
          "base_uri": "https://localhost:8080/",
          "height": 52
        },
        "outputId": "1f010ea5-448d-45ac-ec27-b71c61da8ac3"
      },
      "source": [
        "# Build Layers, Now we create 3 layers, first layer need to recevie input_shape\n",
        "# we use diferent neurons (units) in each layers\n",
        "l0 = tf.keras.layers.Dense(units=4, input_shape=[1])\n",
        "l1 = tf.keras.layers.Dense(units=4)\n",
        "l2 = tf.keras.layers.Dense(units=1)\n",
        "\n",
        "# Build Model with layers\n",
        "model = tf.keras.Sequential([l0, l1, l2])\n",
        "\n",
        "# Make Compile Before Training\n",
        "model.compile(loss=\"mean_squared_error\", optimizer=tf.keras.optimizers.Adam(0.1))\n",
        "\n",
        "# Train Our Model\n",
        "model.fit(celsius_q, fahrenheit_a, epochs=500, verbose=False)\n",
        "\n",
        "print(\"Finish Training Here.\")\n",
        "\n",
        "# Now Our Model can start prediction\n",
        "print(model.predict([100.0]))"
      ],
      "execution_count": 12,
      "outputs": [
        {
          "output_type": "stream",
          "text": [
            "Finish Training Here.\n",
            "[[211.74747]]\n"
          ],
          "name": "stdout"
        }
      ]
    },
    {
      "cell_type": "code",
      "metadata": {
        "id": "OdvHdsWpZf3x",
        "colab_type": "code",
        "colab": {
          "base_uri": "https://localhost:8080/",
          "height": 52
        },
        "outputId": "f6bdafb8-9484-4b04-c04b-efd363f418fb"
      },
      "source": [
        "print(\"Layer variables of l0: {}\".format(l0.get_weights()))"
      ],
      "execution_count": 13,
      "outputs": [
        {
          "output_type": "stream",
          "text": [
            "Layer variables of l0: [array([[ 0.35279047,  0.6304514 , -0.1064653 ,  0.2532562 ]],\n",
            "      dtype=float32), array([ 3.1483853,  3.2089255, -3.108693 , -2.2637846], dtype=float32)]\n"
          ],
          "name": "stdout"
        }
      ]
    },
    {
      "cell_type": "code",
      "metadata": {
        "id": "wgAAA_uyZ2Wk",
        "colab_type": "code",
        "colab": {
          "base_uri": "https://localhost:8080/",
          "height": 104
        },
        "outputId": "49a7dba8-fd90-41fa-f4b7-84df2a791e83"
      },
      "source": [
        "print(\"Layer variables of l1: {}\".format(l1.get_weights()))"
      ],
      "execution_count": 14,
      "outputs": [
        {
          "output_type": "stream",
          "text": [
            "Layer variables of l1: [array([[-9.7930634e-01, -1.0489678e+00,  2.2522839e-02, -4.4197643e-01],\n",
            "       [-5.8259147e-01, -1.1995167e-01,  8.4502381e-01,  5.4601312e-01],\n",
            "       [ 1.2563731e-01, -4.7950757e-01, -9.5938540e-01, -1.0007138e-03],\n",
            "       [ 4.1877925e-02,  7.9334569e-01, -1.8174225e-01, -1.7940800e-01]],\n",
            "      dtype=float32), array([-3.182214 , -3.0521584,  3.1872435,  1.9549812], dtype=float32)]\n"
          ],
          "name": "stdout"
        }
      ]
    },
    {
      "cell_type": "code",
      "metadata": {
        "id": "4lChJRCpaL7e",
        "colab_type": "code",
        "colab": {
          "base_uri": "https://localhost:8080/",
          "height": 86
        },
        "outputId": "bcd3e005-9508-4cac-c525-6bd2409efbce"
      },
      "source": [
        "print(\"Layer variables of l2: {}\".format(l2.get_weights()))"
      ],
      "execution_count": 15,
      "outputs": [
        {
          "output_type": "stream",
          "text": [
            "Layer variables of l2: [array([[-1.2472172 ],\n",
            "       [-0.9303182 ],\n",
            "       [ 1.1771275 ],\n",
            "       [ 0.15917516]], dtype=float32), array([3.191165], dtype=float32)]\n"
          ],
          "name": "stdout"
        }
      ]
    },
    {
      "cell_type": "code",
      "metadata": {
        "id": "tIbXrTLqabqF",
        "colab_type": "code",
        "colab": {}
      },
      "source": [
        ""
      ],
      "execution_count": 0,
      "outputs": []
    }
  ]
}