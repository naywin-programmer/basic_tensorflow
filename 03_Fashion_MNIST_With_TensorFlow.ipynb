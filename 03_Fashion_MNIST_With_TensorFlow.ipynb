{
  "nbformat": 4,
  "nbformat_minor": 0,
  "metadata": {
    "colab": {
      "name": "03_Fashion_MNIST_With_TensorFlow.ipynb",
      "provenance": [],
      "collapsed_sections": [],
      "authorship_tag": "ABX9TyOP0a2Cmyx7sH34sUudKX/+",
      "include_colab_link": true
    },
    "kernelspec": {
      "name": "python3",
      "display_name": "Python 3"
    },
    "accelerator": "GPU",
    "widgets": {
      "application/vnd.jupyter.widget-state+json": {
        "aabbc40274de4d3c978c9051c4ff541b": {
          "model_module": "@jupyter-widgets/controls",
          "model_name": "HBoxModel",
          "state": {
            "_view_name": "HBoxView",
            "_dom_classes": [],
            "_model_name": "HBoxModel",
            "_view_module": "@jupyter-widgets/controls",
            "_model_module_version": "1.5.0",
            "_view_count": null,
            "_view_module_version": "1.5.0",
            "box_style": "",
            "layout": "IPY_MODEL_8a8d314e7a2c4bd2a2ee9b68c9c0c9f7",
            "_model_module": "@jupyter-widgets/controls",
            "children": [
              "IPY_MODEL_c0fe835af6d84dc0876fabb215298337",
              "IPY_MODEL_b9df4e44489f4ae29d0b9df2c3c5962c"
            ]
          }
        },
        "8a8d314e7a2c4bd2a2ee9b68c9c0c9f7": {
          "model_module": "@jupyter-widgets/base",
          "model_name": "LayoutModel",
          "state": {
            "_view_name": "LayoutView",
            "grid_template_rows": null,
            "right": null,
            "justify_content": null,
            "_view_module": "@jupyter-widgets/base",
            "overflow": null,
            "_model_module_version": "1.2.0",
            "_view_count": null,
            "flex_flow": null,
            "width": null,
            "min_width": null,
            "border": null,
            "align_items": null,
            "bottom": null,
            "_model_module": "@jupyter-widgets/base",
            "top": null,
            "grid_column": null,
            "overflow_y": null,
            "overflow_x": null,
            "grid_auto_flow": null,
            "grid_area": null,
            "grid_template_columns": null,
            "flex": null,
            "_model_name": "LayoutModel",
            "justify_items": null,
            "grid_row": null,
            "max_height": null,
            "align_content": null,
            "visibility": null,
            "align_self": null,
            "height": null,
            "min_height": null,
            "padding": null,
            "grid_auto_rows": null,
            "grid_gap": null,
            "max_width": null,
            "order": null,
            "_view_module_version": "1.2.0",
            "grid_template_areas": null,
            "object_position": null,
            "object_fit": null,
            "grid_auto_columns": null,
            "margin": null,
            "display": null,
            "left": null
          }
        },
        "c0fe835af6d84dc0876fabb215298337": {
          "model_module": "@jupyter-widgets/controls",
          "model_name": "IntProgressModel",
          "state": {
            "_view_name": "ProgressView",
            "style": "IPY_MODEL_d201181d8297440286f4699310b51513",
            "_dom_classes": [],
            "description": "Dl Completed...",
            "_model_name": "IntProgressModel",
            "bar_style": "success",
            "max": 1,
            "_view_module": "@jupyter-widgets/controls",
            "_model_module_version": "1.5.0",
            "value": 1,
            "_view_count": null,
            "_view_module_version": "1.5.0",
            "orientation": "horizontal",
            "min": 0,
            "description_tooltip": null,
            "_model_module": "@jupyter-widgets/controls",
            "layout": "IPY_MODEL_9ca781491d294e3391824fdd9d9431e5"
          }
        },
        "b9df4e44489f4ae29d0b9df2c3c5962c": {
          "model_module": "@jupyter-widgets/controls",
          "model_name": "HTMLModel",
          "state": {
            "_view_name": "HTMLView",
            "style": "IPY_MODEL_9d70e4ca393045e6908eb6e07dc81e65",
            "_dom_classes": [],
            "description": "",
            "_model_name": "HTMLModel",
            "placeholder": "​",
            "_view_module": "@jupyter-widgets/controls",
            "_model_module_version": "1.5.0",
            "value": "4/|/100% 4/4 [00:05&lt;00:00,  1.35s/ url]",
            "_view_count": null,
            "_view_module_version": "1.5.0",
            "description_tooltip": null,
            "_model_module": "@jupyter-widgets/controls",
            "layout": "IPY_MODEL_d4603b447187425681e8b46b1cc8ec9d"
          }
        },
        "d201181d8297440286f4699310b51513": {
          "model_module": "@jupyter-widgets/controls",
          "model_name": "ProgressStyleModel",
          "state": {
            "_view_name": "StyleView",
            "_model_name": "ProgressStyleModel",
            "description_width": "initial",
            "_view_module": "@jupyter-widgets/base",
            "_model_module_version": "1.5.0",
            "_view_count": null,
            "_view_module_version": "1.2.0",
            "bar_color": null,
            "_model_module": "@jupyter-widgets/controls"
          }
        },
        "9ca781491d294e3391824fdd9d9431e5": {
          "model_module": "@jupyter-widgets/base",
          "model_name": "LayoutModel",
          "state": {
            "_view_name": "LayoutView",
            "grid_template_rows": null,
            "right": null,
            "justify_content": null,
            "_view_module": "@jupyter-widgets/base",
            "overflow": null,
            "_model_module_version": "1.2.0",
            "_view_count": null,
            "flex_flow": null,
            "width": null,
            "min_width": null,
            "border": null,
            "align_items": null,
            "bottom": null,
            "_model_module": "@jupyter-widgets/base",
            "top": null,
            "grid_column": null,
            "overflow_y": null,
            "overflow_x": null,
            "grid_auto_flow": null,
            "grid_area": null,
            "grid_template_columns": null,
            "flex": null,
            "_model_name": "LayoutModel",
            "justify_items": null,
            "grid_row": null,
            "max_height": null,
            "align_content": null,
            "visibility": null,
            "align_self": null,
            "height": null,
            "min_height": null,
            "padding": null,
            "grid_auto_rows": null,
            "grid_gap": null,
            "max_width": null,
            "order": null,
            "_view_module_version": "1.2.0",
            "grid_template_areas": null,
            "object_position": null,
            "object_fit": null,
            "grid_auto_columns": null,
            "margin": null,
            "display": null,
            "left": null
          }
        },
        "9d70e4ca393045e6908eb6e07dc81e65": {
          "model_module": "@jupyter-widgets/controls",
          "model_name": "DescriptionStyleModel",
          "state": {
            "_view_name": "StyleView",
            "_model_name": "DescriptionStyleModel",
            "description_width": "",
            "_view_module": "@jupyter-widgets/base",
            "_model_module_version": "1.5.0",
            "_view_count": null,
            "_view_module_version": "1.2.0",
            "_model_module": "@jupyter-widgets/controls"
          }
        },
        "d4603b447187425681e8b46b1cc8ec9d": {
          "model_module": "@jupyter-widgets/base",
          "model_name": "LayoutModel",
          "state": {
            "_view_name": "LayoutView",
            "grid_template_rows": null,
            "right": null,
            "justify_content": null,
            "_view_module": "@jupyter-widgets/base",
            "overflow": null,
            "_model_module_version": "1.2.0",
            "_view_count": null,
            "flex_flow": null,
            "width": null,
            "min_width": null,
            "border": null,
            "align_items": null,
            "bottom": null,
            "_model_module": "@jupyter-widgets/base",
            "top": null,
            "grid_column": null,
            "overflow_y": null,
            "overflow_x": null,
            "grid_auto_flow": null,
            "grid_area": null,
            "grid_template_columns": null,
            "flex": null,
            "_model_name": "LayoutModel",
            "justify_items": null,
            "grid_row": null,
            "max_height": null,
            "align_content": null,
            "visibility": null,
            "align_self": null,
            "height": null,
            "min_height": null,
            "padding": null,
            "grid_auto_rows": null,
            "grid_gap": null,
            "max_width": null,
            "order": null,
            "_view_module_version": "1.2.0",
            "grid_template_areas": null,
            "object_position": null,
            "object_fit": null,
            "grid_auto_columns": null,
            "margin": null,
            "display": null,
            "left": null
          }
        },
        "8ee6a7c3bd4c4d20bafca33402d7ca29": {
          "model_module": "@jupyter-widgets/controls",
          "model_name": "HBoxModel",
          "state": {
            "_view_name": "HBoxView",
            "_dom_classes": [],
            "_model_name": "HBoxModel",
            "_view_module": "@jupyter-widgets/controls",
            "_model_module_version": "1.5.0",
            "_view_count": null,
            "_view_module_version": "1.5.0",
            "box_style": "",
            "layout": "IPY_MODEL_8f9706ea8f104c9e8b0c823f59bf2296",
            "_model_module": "@jupyter-widgets/controls",
            "children": [
              "IPY_MODEL_a7bd2536c7e3469ea7e6051d9224f2c5",
              "IPY_MODEL_c869123a4e904cba82ad7df59bb2c7de"
            ]
          }
        },
        "8f9706ea8f104c9e8b0c823f59bf2296": {
          "model_module": "@jupyter-widgets/base",
          "model_name": "LayoutModel",
          "state": {
            "_view_name": "LayoutView",
            "grid_template_rows": null,
            "right": null,
            "justify_content": null,
            "_view_module": "@jupyter-widgets/base",
            "overflow": null,
            "_model_module_version": "1.2.0",
            "_view_count": null,
            "flex_flow": null,
            "width": null,
            "min_width": null,
            "border": null,
            "align_items": null,
            "bottom": null,
            "_model_module": "@jupyter-widgets/base",
            "top": null,
            "grid_column": null,
            "overflow_y": null,
            "overflow_x": null,
            "grid_auto_flow": null,
            "grid_area": null,
            "grid_template_columns": null,
            "flex": null,
            "_model_name": "LayoutModel",
            "justify_items": null,
            "grid_row": null,
            "max_height": null,
            "align_content": null,
            "visibility": null,
            "align_self": null,
            "height": null,
            "min_height": null,
            "padding": null,
            "grid_auto_rows": null,
            "grid_gap": null,
            "max_width": null,
            "order": null,
            "_view_module_version": "1.2.0",
            "grid_template_areas": null,
            "object_position": null,
            "object_fit": null,
            "grid_auto_columns": null,
            "margin": null,
            "display": null,
            "left": null
          }
        },
        "a7bd2536c7e3469ea7e6051d9224f2c5": {
          "model_module": "@jupyter-widgets/controls",
          "model_name": "IntProgressModel",
          "state": {
            "_view_name": "ProgressView",
            "style": "IPY_MODEL_3cc7f7019189464a9751e0d499aebade",
            "_dom_classes": [],
            "description": "Dl Size...",
            "_model_name": "IntProgressModel",
            "bar_style": "success",
            "max": 1,
            "_view_module": "@jupyter-widgets/controls",
            "_model_module_version": "1.5.0",
            "value": 1,
            "_view_count": null,
            "_view_module_version": "1.5.0",
            "orientation": "horizontal",
            "min": 0,
            "description_tooltip": null,
            "_model_module": "@jupyter-widgets/controls",
            "layout": "IPY_MODEL_fd998a87d43440da840ad547ce550a79"
          }
        },
        "c869123a4e904cba82ad7df59bb2c7de": {
          "model_module": "@jupyter-widgets/controls",
          "model_name": "HTMLModel",
          "state": {
            "_view_name": "HTMLView",
            "style": "IPY_MODEL_0d04382b8eb040e186919010d2346d23",
            "_dom_classes": [],
            "description": "",
            "_model_name": "HTMLModel",
            "placeholder": "​",
            "_view_module": "@jupyter-widgets/controls",
            "_model_module_version": "1.5.0",
            "value": "29/|/100% 29/29 [00:05&lt;00:00,  7.81 MiB/s]",
            "_view_count": null,
            "_view_module_version": "1.5.0",
            "description_tooltip": null,
            "_model_module": "@jupyter-widgets/controls",
            "layout": "IPY_MODEL_ab18b99f790a475fa46bb21d72509cd5"
          }
        },
        "3cc7f7019189464a9751e0d499aebade": {
          "model_module": "@jupyter-widgets/controls",
          "model_name": "ProgressStyleModel",
          "state": {
            "_view_name": "StyleView",
            "_model_name": "ProgressStyleModel",
            "description_width": "initial",
            "_view_module": "@jupyter-widgets/base",
            "_model_module_version": "1.5.0",
            "_view_count": null,
            "_view_module_version": "1.2.0",
            "bar_color": null,
            "_model_module": "@jupyter-widgets/controls"
          }
        },
        "fd998a87d43440da840ad547ce550a79": {
          "model_module": "@jupyter-widgets/base",
          "model_name": "LayoutModel",
          "state": {
            "_view_name": "LayoutView",
            "grid_template_rows": null,
            "right": null,
            "justify_content": null,
            "_view_module": "@jupyter-widgets/base",
            "overflow": null,
            "_model_module_version": "1.2.0",
            "_view_count": null,
            "flex_flow": null,
            "width": null,
            "min_width": null,
            "border": null,
            "align_items": null,
            "bottom": null,
            "_model_module": "@jupyter-widgets/base",
            "top": null,
            "grid_column": null,
            "overflow_y": null,
            "overflow_x": null,
            "grid_auto_flow": null,
            "grid_area": null,
            "grid_template_columns": null,
            "flex": null,
            "_model_name": "LayoutModel",
            "justify_items": null,
            "grid_row": null,
            "max_height": null,
            "align_content": null,
            "visibility": null,
            "align_self": null,
            "height": null,
            "min_height": null,
            "padding": null,
            "grid_auto_rows": null,
            "grid_gap": null,
            "max_width": null,
            "order": null,
            "_view_module_version": "1.2.0",
            "grid_template_areas": null,
            "object_position": null,
            "object_fit": null,
            "grid_auto_columns": null,
            "margin": null,
            "display": null,
            "left": null
          }
        },
        "0d04382b8eb040e186919010d2346d23": {
          "model_module": "@jupyter-widgets/controls",
          "model_name": "DescriptionStyleModel",
          "state": {
            "_view_name": "StyleView",
            "_model_name": "DescriptionStyleModel",
            "description_width": "",
            "_view_module": "@jupyter-widgets/base",
            "_model_module_version": "1.5.0",
            "_view_count": null,
            "_view_module_version": "1.2.0",
            "_model_module": "@jupyter-widgets/controls"
          }
        },
        "ab18b99f790a475fa46bb21d72509cd5": {
          "model_module": "@jupyter-widgets/base",
          "model_name": "LayoutModel",
          "state": {
            "_view_name": "LayoutView",
            "grid_template_rows": null,
            "right": null,
            "justify_content": null,
            "_view_module": "@jupyter-widgets/base",
            "overflow": null,
            "_model_module_version": "1.2.0",
            "_view_count": null,
            "flex_flow": null,
            "width": null,
            "min_width": null,
            "border": null,
            "align_items": null,
            "bottom": null,
            "_model_module": "@jupyter-widgets/base",
            "top": null,
            "grid_column": null,
            "overflow_y": null,
            "overflow_x": null,
            "grid_auto_flow": null,
            "grid_area": null,
            "grid_template_columns": null,
            "flex": null,
            "_model_name": "LayoutModel",
            "justify_items": null,
            "grid_row": null,
            "max_height": null,
            "align_content": null,
            "visibility": null,
            "align_self": null,
            "height": null,
            "min_height": null,
            "padding": null,
            "grid_auto_rows": null,
            "grid_gap": null,
            "max_width": null,
            "order": null,
            "_view_module_version": "1.2.0",
            "grid_template_areas": null,
            "object_position": null,
            "object_fit": null,
            "grid_auto_columns": null,
            "margin": null,
            "display": null,
            "left": null
          }
        },
        "844981c92592444e98fef2c69979a6b8": {
          "model_module": "@jupyter-widgets/controls",
          "model_name": "HBoxModel",
          "state": {
            "_view_name": "HBoxView",
            "_dom_classes": [],
            "_model_name": "HBoxModel",
            "_view_module": "@jupyter-widgets/controls",
            "_model_module_version": "1.5.0",
            "_view_count": null,
            "_view_module_version": "1.5.0",
            "box_style": "",
            "layout": "IPY_MODEL_f0130abd517841d6bd479ff6acc2ec88",
            "_model_module": "@jupyter-widgets/controls",
            "children": [
              "IPY_MODEL_2497a6b809204944b1aac38ef63bfb19",
              "IPY_MODEL_1949c6dce41c44d8bdcda7c7aa73b1b6"
            ]
          }
        },
        "f0130abd517841d6bd479ff6acc2ec88": {
          "model_module": "@jupyter-widgets/base",
          "model_name": "LayoutModel",
          "state": {
            "_view_name": "LayoutView",
            "grid_template_rows": null,
            "right": null,
            "justify_content": null,
            "_view_module": "@jupyter-widgets/base",
            "overflow": null,
            "_model_module_version": "1.2.0",
            "_view_count": null,
            "flex_flow": null,
            "width": null,
            "min_width": null,
            "border": null,
            "align_items": null,
            "bottom": null,
            "_model_module": "@jupyter-widgets/base",
            "top": null,
            "grid_column": null,
            "overflow_y": null,
            "overflow_x": null,
            "grid_auto_flow": null,
            "grid_area": null,
            "grid_template_columns": null,
            "flex": null,
            "_model_name": "LayoutModel",
            "justify_items": null,
            "grid_row": null,
            "max_height": null,
            "align_content": null,
            "visibility": null,
            "align_self": null,
            "height": null,
            "min_height": null,
            "padding": null,
            "grid_auto_rows": null,
            "grid_gap": null,
            "max_width": null,
            "order": null,
            "_view_module_version": "1.2.0",
            "grid_template_areas": null,
            "object_position": null,
            "object_fit": null,
            "grid_auto_columns": null,
            "margin": null,
            "display": null,
            "left": null
          }
        },
        "2497a6b809204944b1aac38ef63bfb19": {
          "model_module": "@jupyter-widgets/controls",
          "model_name": "IntProgressModel",
          "state": {
            "_view_name": "ProgressView",
            "style": "IPY_MODEL_bcd8995b3f564d5bab26634de26a3c63",
            "_dom_classes": [],
            "description": "Extraction completed...",
            "_model_name": "IntProgressModel",
            "bar_style": "success",
            "max": 1,
            "_view_module": "@jupyter-widgets/controls",
            "_model_module_version": "1.5.0",
            "value": 1,
            "_view_count": null,
            "_view_module_version": "1.5.0",
            "orientation": "horizontal",
            "min": 0,
            "description_tooltip": null,
            "_model_module": "@jupyter-widgets/controls",
            "layout": "IPY_MODEL_c62b7b360c0a40eda6bc52b3ab90ab9d"
          }
        },
        "1949c6dce41c44d8bdcda7c7aa73b1b6": {
          "model_module": "@jupyter-widgets/controls",
          "model_name": "HTMLModel",
          "state": {
            "_view_name": "HTMLView",
            "style": "IPY_MODEL_34b365139f78497e8e9420a48659de51",
            "_dom_classes": [],
            "description": "",
            "_model_name": "HTMLModel",
            "placeholder": "​",
            "_view_module": "@jupyter-widgets/controls",
            "_model_module_version": "1.5.0",
            "value": "4/|/100% 4/4 [00:05&lt;00:00,  1.44s/ file]",
            "_view_count": null,
            "_view_module_version": "1.5.0",
            "description_tooltip": null,
            "_model_module": "@jupyter-widgets/controls",
            "layout": "IPY_MODEL_15d47b10f88e40b6a1939545174ca07a"
          }
        },
        "bcd8995b3f564d5bab26634de26a3c63": {
          "model_module": "@jupyter-widgets/controls",
          "model_name": "ProgressStyleModel",
          "state": {
            "_view_name": "StyleView",
            "_model_name": "ProgressStyleModel",
            "description_width": "initial",
            "_view_module": "@jupyter-widgets/base",
            "_model_module_version": "1.5.0",
            "_view_count": null,
            "_view_module_version": "1.2.0",
            "bar_color": null,
            "_model_module": "@jupyter-widgets/controls"
          }
        },
        "c62b7b360c0a40eda6bc52b3ab90ab9d": {
          "model_module": "@jupyter-widgets/base",
          "model_name": "LayoutModel",
          "state": {
            "_view_name": "LayoutView",
            "grid_template_rows": null,
            "right": null,
            "justify_content": null,
            "_view_module": "@jupyter-widgets/base",
            "overflow": null,
            "_model_module_version": "1.2.0",
            "_view_count": null,
            "flex_flow": null,
            "width": null,
            "min_width": null,
            "border": null,
            "align_items": null,
            "bottom": null,
            "_model_module": "@jupyter-widgets/base",
            "top": null,
            "grid_column": null,
            "overflow_y": null,
            "overflow_x": null,
            "grid_auto_flow": null,
            "grid_area": null,
            "grid_template_columns": null,
            "flex": null,
            "_model_name": "LayoutModel",
            "justify_items": null,
            "grid_row": null,
            "max_height": null,
            "align_content": null,
            "visibility": null,
            "align_self": null,
            "height": null,
            "min_height": null,
            "padding": null,
            "grid_auto_rows": null,
            "grid_gap": null,
            "max_width": null,
            "order": null,
            "_view_module_version": "1.2.0",
            "grid_template_areas": null,
            "object_position": null,
            "object_fit": null,
            "grid_auto_columns": null,
            "margin": null,
            "display": null,
            "left": null
          }
        },
        "34b365139f78497e8e9420a48659de51": {
          "model_module": "@jupyter-widgets/controls",
          "model_name": "DescriptionStyleModel",
          "state": {
            "_view_name": "StyleView",
            "_model_name": "DescriptionStyleModel",
            "description_width": "",
            "_view_module": "@jupyter-widgets/base",
            "_model_module_version": "1.5.0",
            "_view_count": null,
            "_view_module_version": "1.2.0",
            "_model_module": "@jupyter-widgets/controls"
          }
        },
        "15d47b10f88e40b6a1939545174ca07a": {
          "model_module": "@jupyter-widgets/base",
          "model_name": "LayoutModel",
          "state": {
            "_view_name": "LayoutView",
            "grid_template_rows": null,
            "right": null,
            "justify_content": null,
            "_view_module": "@jupyter-widgets/base",
            "overflow": null,
            "_model_module_version": "1.2.0",
            "_view_count": null,
            "flex_flow": null,
            "width": null,
            "min_width": null,
            "border": null,
            "align_items": null,
            "bottom": null,
            "_model_module": "@jupyter-widgets/base",
            "top": null,
            "grid_column": null,
            "overflow_y": null,
            "overflow_x": null,
            "grid_auto_flow": null,
            "grid_area": null,
            "grid_template_columns": null,
            "flex": null,
            "_model_name": "LayoutModel",
            "justify_items": null,
            "grid_row": null,
            "max_height": null,
            "align_content": null,
            "visibility": null,
            "align_self": null,
            "height": null,
            "min_height": null,
            "padding": null,
            "grid_auto_rows": null,
            "grid_gap": null,
            "max_width": null,
            "order": null,
            "_view_module_version": "1.2.0",
            "grid_template_areas": null,
            "object_position": null,
            "object_fit": null,
            "grid_auto_columns": null,
            "margin": null,
            "display": null,
            "left": null
          }
        },
        "5a2fceeec8e54207a8a3b8175ca2faed": {
          "model_module": "@jupyter-widgets/controls",
          "model_name": "HBoxModel",
          "state": {
            "_view_name": "HBoxView",
            "_dom_classes": [],
            "_model_name": "HBoxModel",
            "_view_module": "@jupyter-widgets/controls",
            "_model_module_version": "1.5.0",
            "_view_count": null,
            "_view_module_version": "1.5.0",
            "box_style": "",
            "layout": "IPY_MODEL_aea4d1b5fa90415cabc92a4020cc901f",
            "_model_module": "@jupyter-widgets/controls",
            "children": [
              "IPY_MODEL_cf1ae1feb1b345049fc34b659bdd86bd",
              "IPY_MODEL_64f20368f4dc4304bed607751205e2a4"
            ]
          }
        },
        "aea4d1b5fa90415cabc92a4020cc901f": {
          "model_module": "@jupyter-widgets/base",
          "model_name": "LayoutModel",
          "state": {
            "_view_name": "LayoutView",
            "grid_template_rows": null,
            "right": null,
            "justify_content": null,
            "_view_module": "@jupyter-widgets/base",
            "overflow": null,
            "_model_module_version": "1.2.0",
            "_view_count": null,
            "flex_flow": null,
            "width": null,
            "min_width": null,
            "border": null,
            "align_items": null,
            "bottom": null,
            "_model_module": "@jupyter-widgets/base",
            "top": null,
            "grid_column": null,
            "overflow_y": null,
            "overflow_x": null,
            "grid_auto_flow": null,
            "grid_area": null,
            "grid_template_columns": null,
            "flex": null,
            "_model_name": "LayoutModel",
            "justify_items": null,
            "grid_row": null,
            "max_height": null,
            "align_content": null,
            "visibility": null,
            "align_self": null,
            "height": null,
            "min_height": null,
            "padding": null,
            "grid_auto_rows": null,
            "grid_gap": null,
            "max_width": null,
            "order": null,
            "_view_module_version": "1.2.0",
            "grid_template_areas": null,
            "object_position": null,
            "object_fit": null,
            "grid_auto_columns": null,
            "margin": null,
            "display": null,
            "left": null
          }
        },
        "cf1ae1feb1b345049fc34b659bdd86bd": {
          "model_module": "@jupyter-widgets/controls",
          "model_name": "IntProgressModel",
          "state": {
            "_view_name": "ProgressView",
            "style": "IPY_MODEL_9a5c180f16594898bcd2167403dc9516",
            "_dom_classes": [],
            "description": "",
            "_model_name": "IntProgressModel",
            "bar_style": "info",
            "max": 1,
            "_view_module": "@jupyter-widgets/controls",
            "_model_module_version": "1.5.0",
            "value": 1,
            "_view_count": null,
            "_view_module_version": "1.5.0",
            "orientation": "horizontal",
            "min": 0,
            "description_tooltip": null,
            "_model_module": "@jupyter-widgets/controls",
            "layout": "IPY_MODEL_f3fe6a6809274b6d8a640a44055f5ea6"
          }
        },
        "64f20368f4dc4304bed607751205e2a4": {
          "model_module": "@jupyter-widgets/controls",
          "model_name": "HTMLModel",
          "state": {
            "_view_name": "HTMLView",
            "style": "IPY_MODEL_d454e85e458742c8b54e50651b4df337",
            "_dom_classes": [],
            "description": "",
            "_model_name": "HTMLModel",
            "placeholder": "​",
            "_view_module": "@jupyter-widgets/controls",
            "_model_module_version": "1.5.0",
            "value": "59928 examples [00:23, 2657.05 examples/s]",
            "_view_count": null,
            "_view_module_version": "1.5.0",
            "description_tooltip": null,
            "_model_module": "@jupyter-widgets/controls",
            "layout": "IPY_MODEL_25a6d5cc2c4d408aa75243c97af90bda"
          }
        },
        "9a5c180f16594898bcd2167403dc9516": {
          "model_module": "@jupyter-widgets/controls",
          "model_name": "ProgressStyleModel",
          "state": {
            "_view_name": "StyleView",
            "_model_name": "ProgressStyleModel",
            "description_width": "",
            "_view_module": "@jupyter-widgets/base",
            "_model_module_version": "1.5.0",
            "_view_count": null,
            "_view_module_version": "1.2.0",
            "bar_color": null,
            "_model_module": "@jupyter-widgets/controls"
          }
        },
        "f3fe6a6809274b6d8a640a44055f5ea6": {
          "model_module": "@jupyter-widgets/base",
          "model_name": "LayoutModel",
          "state": {
            "_view_name": "LayoutView",
            "grid_template_rows": null,
            "right": null,
            "justify_content": null,
            "_view_module": "@jupyter-widgets/base",
            "overflow": null,
            "_model_module_version": "1.2.0",
            "_view_count": null,
            "flex_flow": null,
            "width": null,
            "min_width": null,
            "border": null,
            "align_items": null,
            "bottom": null,
            "_model_module": "@jupyter-widgets/base",
            "top": null,
            "grid_column": null,
            "overflow_y": null,
            "overflow_x": null,
            "grid_auto_flow": null,
            "grid_area": null,
            "grid_template_columns": null,
            "flex": null,
            "_model_name": "LayoutModel",
            "justify_items": null,
            "grid_row": null,
            "max_height": null,
            "align_content": null,
            "visibility": null,
            "align_self": null,
            "height": null,
            "min_height": null,
            "padding": null,
            "grid_auto_rows": null,
            "grid_gap": null,
            "max_width": null,
            "order": null,
            "_view_module_version": "1.2.0",
            "grid_template_areas": null,
            "object_position": null,
            "object_fit": null,
            "grid_auto_columns": null,
            "margin": null,
            "display": null,
            "left": null
          }
        },
        "d454e85e458742c8b54e50651b4df337": {
          "model_module": "@jupyter-widgets/controls",
          "model_name": "DescriptionStyleModel",
          "state": {
            "_view_name": "StyleView",
            "_model_name": "DescriptionStyleModel",
            "description_width": "",
            "_view_module": "@jupyter-widgets/base",
            "_model_module_version": "1.5.0",
            "_view_count": null,
            "_view_module_version": "1.2.0",
            "_model_module": "@jupyter-widgets/controls"
          }
        },
        "25a6d5cc2c4d408aa75243c97af90bda": {
          "model_module": "@jupyter-widgets/base",
          "model_name": "LayoutModel",
          "state": {
            "_view_name": "LayoutView",
            "grid_template_rows": null,
            "right": null,
            "justify_content": null,
            "_view_module": "@jupyter-widgets/base",
            "overflow": null,
            "_model_module_version": "1.2.0",
            "_view_count": null,
            "flex_flow": null,
            "width": null,
            "min_width": null,
            "border": null,
            "align_items": null,
            "bottom": null,
            "_model_module": "@jupyter-widgets/base",
            "top": null,
            "grid_column": null,
            "overflow_y": null,
            "overflow_x": null,
            "grid_auto_flow": null,
            "grid_area": null,
            "grid_template_columns": null,
            "flex": null,
            "_model_name": "LayoutModel",
            "justify_items": null,
            "grid_row": null,
            "max_height": null,
            "align_content": null,
            "visibility": null,
            "align_self": null,
            "height": null,
            "min_height": null,
            "padding": null,
            "grid_auto_rows": null,
            "grid_gap": null,
            "max_width": null,
            "order": null,
            "_view_module_version": "1.2.0",
            "grid_template_areas": null,
            "object_position": null,
            "object_fit": null,
            "grid_auto_columns": null,
            "margin": null,
            "display": null,
            "left": null
          }
        },
        "dfd091ccbd154c80bd2a593c9653959f": {
          "model_module": "@jupyter-widgets/controls",
          "model_name": "HBoxModel",
          "state": {
            "_view_name": "HBoxView",
            "_dom_classes": [],
            "_model_name": "HBoxModel",
            "_view_module": "@jupyter-widgets/controls",
            "_model_module_version": "1.5.0",
            "_view_count": null,
            "_view_module_version": "1.5.0",
            "box_style": "",
            "layout": "IPY_MODEL_47929fe08fc241cca1ede37992224423",
            "_model_module": "@jupyter-widgets/controls",
            "children": [
              "IPY_MODEL_38360b1422d0469c87bba5a6c2718fe3",
              "IPY_MODEL_bc799eeccaed43c3a1fb055e945d103b"
            ]
          }
        },
        "47929fe08fc241cca1ede37992224423": {
          "model_module": "@jupyter-widgets/base",
          "model_name": "LayoutModel",
          "state": {
            "_view_name": "LayoutView",
            "grid_template_rows": null,
            "right": null,
            "justify_content": null,
            "_view_module": "@jupyter-widgets/base",
            "overflow": null,
            "_model_module_version": "1.2.0",
            "_view_count": null,
            "flex_flow": null,
            "width": null,
            "min_width": null,
            "border": null,
            "align_items": null,
            "bottom": null,
            "_model_module": "@jupyter-widgets/base",
            "top": null,
            "grid_column": null,
            "overflow_y": null,
            "overflow_x": null,
            "grid_auto_flow": null,
            "grid_area": null,
            "grid_template_columns": null,
            "flex": null,
            "_model_name": "LayoutModel",
            "justify_items": null,
            "grid_row": null,
            "max_height": null,
            "align_content": null,
            "visibility": null,
            "align_self": null,
            "height": null,
            "min_height": null,
            "padding": null,
            "grid_auto_rows": null,
            "grid_gap": null,
            "max_width": null,
            "order": null,
            "_view_module_version": "1.2.0",
            "grid_template_areas": null,
            "object_position": null,
            "object_fit": null,
            "grid_auto_columns": null,
            "margin": null,
            "display": null,
            "left": null
          }
        },
        "38360b1422d0469c87bba5a6c2718fe3": {
          "model_module": "@jupyter-widgets/controls",
          "model_name": "IntProgressModel",
          "state": {
            "_view_name": "ProgressView",
            "style": "IPY_MODEL_14585f8d31af46f3800461f827f73f56",
            "_dom_classes": [],
            "description": "",
            "_model_name": "IntProgressModel",
            "bar_style": "danger",
            "max": 60000,
            "_view_module": "@jupyter-widgets/controls",
            "_model_module_version": "1.5.0",
            "value": 49518,
            "_view_count": null,
            "_view_module_version": "1.5.0",
            "orientation": "horizontal",
            "min": 0,
            "description_tooltip": null,
            "_model_module": "@jupyter-widgets/controls",
            "layout": "IPY_MODEL_3fbf9f84c48846e18f6bbe4a97a5d2f7"
          }
        },
        "bc799eeccaed43c3a1fb055e945d103b": {
          "model_module": "@jupyter-widgets/controls",
          "model_name": "HTMLModel",
          "state": {
            "_view_name": "HTMLView",
            "style": "IPY_MODEL_4831f6581b59452ca0d21bb2a80da2a9",
            "_dom_classes": [],
            "description": "",
            "_model_name": "HTMLModel",
            "placeholder": "​",
            "_view_module": "@jupyter-widgets/controls",
            "_model_module_version": "1.5.0",
            "value": " 83% 49518/60000 [00:00&lt;00:00, 83940.54 examples/s]",
            "_view_count": null,
            "_view_module_version": "1.5.0",
            "description_tooltip": null,
            "_model_module": "@jupyter-widgets/controls",
            "layout": "IPY_MODEL_70c9609366754ba08433d27d8a6f8b48"
          }
        },
        "14585f8d31af46f3800461f827f73f56": {
          "model_module": "@jupyter-widgets/controls",
          "model_name": "ProgressStyleModel",
          "state": {
            "_view_name": "StyleView",
            "_model_name": "ProgressStyleModel",
            "description_width": "",
            "_view_module": "@jupyter-widgets/base",
            "_model_module_version": "1.5.0",
            "_view_count": null,
            "_view_module_version": "1.2.0",
            "bar_color": null,
            "_model_module": "@jupyter-widgets/controls"
          }
        },
        "3fbf9f84c48846e18f6bbe4a97a5d2f7": {
          "model_module": "@jupyter-widgets/base",
          "model_name": "LayoutModel",
          "state": {
            "_view_name": "LayoutView",
            "grid_template_rows": null,
            "right": null,
            "justify_content": null,
            "_view_module": "@jupyter-widgets/base",
            "overflow": null,
            "_model_module_version": "1.2.0",
            "_view_count": null,
            "flex_flow": null,
            "width": null,
            "min_width": null,
            "border": null,
            "align_items": null,
            "bottom": null,
            "_model_module": "@jupyter-widgets/base",
            "top": null,
            "grid_column": null,
            "overflow_y": null,
            "overflow_x": null,
            "grid_auto_flow": null,
            "grid_area": null,
            "grid_template_columns": null,
            "flex": null,
            "_model_name": "LayoutModel",
            "justify_items": null,
            "grid_row": null,
            "max_height": null,
            "align_content": null,
            "visibility": null,
            "align_self": null,
            "height": null,
            "min_height": null,
            "padding": null,
            "grid_auto_rows": null,
            "grid_gap": null,
            "max_width": null,
            "order": null,
            "_view_module_version": "1.2.0",
            "grid_template_areas": null,
            "object_position": null,
            "object_fit": null,
            "grid_auto_columns": null,
            "margin": null,
            "display": null,
            "left": null
          }
        },
        "4831f6581b59452ca0d21bb2a80da2a9": {
          "model_module": "@jupyter-widgets/controls",
          "model_name": "DescriptionStyleModel",
          "state": {
            "_view_name": "StyleView",
            "_model_name": "DescriptionStyleModel",
            "description_width": "",
            "_view_module": "@jupyter-widgets/base",
            "_model_module_version": "1.5.0",
            "_view_count": null,
            "_view_module_version": "1.2.0",
            "_model_module": "@jupyter-widgets/controls"
          }
        },
        "70c9609366754ba08433d27d8a6f8b48": {
          "model_module": "@jupyter-widgets/base",
          "model_name": "LayoutModel",
          "state": {
            "_view_name": "LayoutView",
            "grid_template_rows": null,
            "right": null,
            "justify_content": null,
            "_view_module": "@jupyter-widgets/base",
            "overflow": null,
            "_model_module_version": "1.2.0",
            "_view_count": null,
            "flex_flow": null,
            "width": null,
            "min_width": null,
            "border": null,
            "align_items": null,
            "bottom": null,
            "_model_module": "@jupyter-widgets/base",
            "top": null,
            "grid_column": null,
            "overflow_y": null,
            "overflow_x": null,
            "grid_auto_flow": null,
            "grid_area": null,
            "grid_template_columns": null,
            "flex": null,
            "_model_name": "LayoutModel",
            "justify_items": null,
            "grid_row": null,
            "max_height": null,
            "align_content": null,
            "visibility": null,
            "align_self": null,
            "height": null,
            "min_height": null,
            "padding": null,
            "grid_auto_rows": null,
            "grid_gap": null,
            "max_width": null,
            "order": null,
            "_view_module_version": "1.2.0",
            "grid_template_areas": null,
            "object_position": null,
            "object_fit": null,
            "grid_auto_columns": null,
            "margin": null,
            "display": null,
            "left": null
          }
        },
        "05c38c34e9c64b74929c13f711431e31": {
          "model_module": "@jupyter-widgets/controls",
          "model_name": "HBoxModel",
          "state": {
            "_view_name": "HBoxView",
            "_dom_classes": [],
            "_model_name": "HBoxModel",
            "_view_module": "@jupyter-widgets/controls",
            "_model_module_version": "1.5.0",
            "_view_count": null,
            "_view_module_version": "1.5.0",
            "box_style": "",
            "layout": "IPY_MODEL_52d2f6eb05724ee4bf645e51894afb71",
            "_model_module": "@jupyter-widgets/controls",
            "children": [
              "IPY_MODEL_b2ee4b6ddb9b422f845c407711d11b9d",
              "IPY_MODEL_a6a5cd9008c245929dc7a1356d335658"
            ]
          }
        },
        "52d2f6eb05724ee4bf645e51894afb71": {
          "model_module": "@jupyter-widgets/base",
          "model_name": "LayoutModel",
          "state": {
            "_view_name": "LayoutView",
            "grid_template_rows": null,
            "right": null,
            "justify_content": null,
            "_view_module": "@jupyter-widgets/base",
            "overflow": null,
            "_model_module_version": "1.2.0",
            "_view_count": null,
            "flex_flow": null,
            "width": null,
            "min_width": null,
            "border": null,
            "align_items": null,
            "bottom": null,
            "_model_module": "@jupyter-widgets/base",
            "top": null,
            "grid_column": null,
            "overflow_y": null,
            "overflow_x": null,
            "grid_auto_flow": null,
            "grid_area": null,
            "grid_template_columns": null,
            "flex": null,
            "_model_name": "LayoutModel",
            "justify_items": null,
            "grid_row": null,
            "max_height": null,
            "align_content": null,
            "visibility": null,
            "align_self": null,
            "height": null,
            "min_height": null,
            "padding": null,
            "grid_auto_rows": null,
            "grid_gap": null,
            "max_width": null,
            "order": null,
            "_view_module_version": "1.2.0",
            "grid_template_areas": null,
            "object_position": null,
            "object_fit": null,
            "grid_auto_columns": null,
            "margin": null,
            "display": null,
            "left": null
          }
        },
        "b2ee4b6ddb9b422f845c407711d11b9d": {
          "model_module": "@jupyter-widgets/controls",
          "model_name": "IntProgressModel",
          "state": {
            "_view_name": "ProgressView",
            "style": "IPY_MODEL_d823bea48641450b906db7dc8d0c2f71",
            "_dom_classes": [],
            "description": "",
            "_model_name": "IntProgressModel",
            "bar_style": "info",
            "max": 1,
            "_view_module": "@jupyter-widgets/controls",
            "_model_module_version": "1.5.0",
            "value": 1,
            "_view_count": null,
            "_view_module_version": "1.5.0",
            "orientation": "horizontal",
            "min": 0,
            "description_tooltip": null,
            "_model_module": "@jupyter-widgets/controls",
            "layout": "IPY_MODEL_da7ee50b65334ffd81aff9260a006056"
          }
        },
        "a6a5cd9008c245929dc7a1356d335658": {
          "model_module": "@jupyter-widgets/controls",
          "model_name": "HTMLModel",
          "state": {
            "_view_name": "HTMLView",
            "style": "IPY_MODEL_cd67ddca191549bdba0de5105e4047c7",
            "_dom_classes": [],
            "description": "",
            "_model_name": "HTMLModel",
            "placeholder": "​",
            "_view_module": "@jupyter-widgets/controls",
            "_model_module_version": "1.5.0",
            "value": "9825 examples [00:03, 2718.63 examples/s]",
            "_view_count": null,
            "_view_module_version": "1.5.0",
            "description_tooltip": null,
            "_model_module": "@jupyter-widgets/controls",
            "layout": "IPY_MODEL_b1f70b145f7146258a921b7cb12b1c74"
          }
        },
        "d823bea48641450b906db7dc8d0c2f71": {
          "model_module": "@jupyter-widgets/controls",
          "model_name": "ProgressStyleModel",
          "state": {
            "_view_name": "StyleView",
            "_model_name": "ProgressStyleModel",
            "description_width": "",
            "_view_module": "@jupyter-widgets/base",
            "_model_module_version": "1.5.0",
            "_view_count": null,
            "_view_module_version": "1.2.0",
            "bar_color": null,
            "_model_module": "@jupyter-widgets/controls"
          }
        },
        "da7ee50b65334ffd81aff9260a006056": {
          "model_module": "@jupyter-widgets/base",
          "model_name": "LayoutModel",
          "state": {
            "_view_name": "LayoutView",
            "grid_template_rows": null,
            "right": null,
            "justify_content": null,
            "_view_module": "@jupyter-widgets/base",
            "overflow": null,
            "_model_module_version": "1.2.0",
            "_view_count": null,
            "flex_flow": null,
            "width": null,
            "min_width": null,
            "border": null,
            "align_items": null,
            "bottom": null,
            "_model_module": "@jupyter-widgets/base",
            "top": null,
            "grid_column": null,
            "overflow_y": null,
            "overflow_x": null,
            "grid_auto_flow": null,
            "grid_area": null,
            "grid_template_columns": null,
            "flex": null,
            "_model_name": "LayoutModel",
            "justify_items": null,
            "grid_row": null,
            "max_height": null,
            "align_content": null,
            "visibility": null,
            "align_self": null,
            "height": null,
            "min_height": null,
            "padding": null,
            "grid_auto_rows": null,
            "grid_gap": null,
            "max_width": null,
            "order": null,
            "_view_module_version": "1.2.0",
            "grid_template_areas": null,
            "object_position": null,
            "object_fit": null,
            "grid_auto_columns": null,
            "margin": null,
            "display": null,
            "left": null
          }
        },
        "cd67ddca191549bdba0de5105e4047c7": {
          "model_module": "@jupyter-widgets/controls",
          "model_name": "DescriptionStyleModel",
          "state": {
            "_view_name": "StyleView",
            "_model_name": "DescriptionStyleModel",
            "description_width": "",
            "_view_module": "@jupyter-widgets/base",
            "_model_module_version": "1.5.0",
            "_view_count": null,
            "_view_module_version": "1.2.0",
            "_model_module": "@jupyter-widgets/controls"
          }
        },
        "b1f70b145f7146258a921b7cb12b1c74": {
          "model_module": "@jupyter-widgets/base",
          "model_name": "LayoutModel",
          "state": {
            "_view_name": "LayoutView",
            "grid_template_rows": null,
            "right": null,
            "justify_content": null,
            "_view_module": "@jupyter-widgets/base",
            "overflow": null,
            "_model_module_version": "1.2.0",
            "_view_count": null,
            "flex_flow": null,
            "width": null,
            "min_width": null,
            "border": null,
            "align_items": null,
            "bottom": null,
            "_model_module": "@jupyter-widgets/base",
            "top": null,
            "grid_column": null,
            "overflow_y": null,
            "overflow_x": null,
            "grid_auto_flow": null,
            "grid_area": null,
            "grid_template_columns": null,
            "flex": null,
            "_model_name": "LayoutModel",
            "justify_items": null,
            "grid_row": null,
            "max_height": null,
            "align_content": null,
            "visibility": null,
            "align_self": null,
            "height": null,
            "min_height": null,
            "padding": null,
            "grid_auto_rows": null,
            "grid_gap": null,
            "max_width": null,
            "order": null,
            "_view_module_version": "1.2.0",
            "grid_template_areas": null,
            "object_position": null,
            "object_fit": null,
            "grid_auto_columns": null,
            "margin": null,
            "display": null,
            "left": null
          }
        },
        "3c23eb3214ed47929c45375b239eb41c": {
          "model_module": "@jupyter-widgets/controls",
          "model_name": "HBoxModel",
          "state": {
            "_view_name": "HBoxView",
            "_dom_classes": [],
            "_model_name": "HBoxModel",
            "_view_module": "@jupyter-widgets/controls",
            "_model_module_version": "1.5.0",
            "_view_count": null,
            "_view_module_version": "1.5.0",
            "box_style": "",
            "layout": "IPY_MODEL_0522086dc56f4efc9af1351f1bb6ea59",
            "_model_module": "@jupyter-widgets/controls",
            "children": [
              "IPY_MODEL_76c4dd601db047479f25b2a44b8e971c",
              "IPY_MODEL_c84d9f76b8fa4fb489559bdf798f4258"
            ]
          }
        },
        "0522086dc56f4efc9af1351f1bb6ea59": {
          "model_module": "@jupyter-widgets/base",
          "model_name": "LayoutModel",
          "state": {
            "_view_name": "LayoutView",
            "grid_template_rows": null,
            "right": null,
            "justify_content": null,
            "_view_module": "@jupyter-widgets/base",
            "overflow": null,
            "_model_module_version": "1.2.0",
            "_view_count": null,
            "flex_flow": null,
            "width": null,
            "min_width": null,
            "border": null,
            "align_items": null,
            "bottom": null,
            "_model_module": "@jupyter-widgets/base",
            "top": null,
            "grid_column": null,
            "overflow_y": null,
            "overflow_x": null,
            "grid_auto_flow": null,
            "grid_area": null,
            "grid_template_columns": null,
            "flex": null,
            "_model_name": "LayoutModel",
            "justify_items": null,
            "grid_row": null,
            "max_height": null,
            "align_content": null,
            "visibility": null,
            "align_self": null,
            "height": null,
            "min_height": null,
            "padding": null,
            "grid_auto_rows": null,
            "grid_gap": null,
            "max_width": null,
            "order": null,
            "_view_module_version": "1.2.0",
            "grid_template_areas": null,
            "object_position": null,
            "object_fit": null,
            "grid_auto_columns": null,
            "margin": null,
            "display": null,
            "left": null
          }
        },
        "76c4dd601db047479f25b2a44b8e971c": {
          "model_module": "@jupyter-widgets/controls",
          "model_name": "IntProgressModel",
          "state": {
            "_view_name": "ProgressView",
            "style": "IPY_MODEL_be339fcd20334f10aca000e6e3900d47",
            "_dom_classes": [],
            "description": "",
            "_model_name": "IntProgressModel",
            "bar_style": "danger",
            "max": 10000,
            "_view_module": "@jupyter-widgets/controls",
            "_model_module_version": "1.5.0",
            "value": 0,
            "_view_count": null,
            "_view_module_version": "1.5.0",
            "orientation": "horizontal",
            "min": 0,
            "description_tooltip": null,
            "_model_module": "@jupyter-widgets/controls",
            "layout": "IPY_MODEL_1622323a520a4685a7af820f4411f125"
          }
        },
        "c84d9f76b8fa4fb489559bdf798f4258": {
          "model_module": "@jupyter-widgets/controls",
          "model_name": "HTMLModel",
          "state": {
            "_view_name": "HTMLView",
            "style": "IPY_MODEL_8b253ed65885406a98fa8ad206c441ed",
            "_dom_classes": [],
            "description": "",
            "_model_name": "HTMLModel",
            "placeholder": "​",
            "_view_module": "@jupyter-widgets/controls",
            "_model_module_version": "1.5.0",
            "value": "  0% 0/10000 [00:00&lt;?, ? examples/s]",
            "_view_count": null,
            "_view_module_version": "1.5.0",
            "description_tooltip": null,
            "_model_module": "@jupyter-widgets/controls",
            "layout": "IPY_MODEL_97a560f5590448468a05a051c7bef0cf"
          }
        },
        "be339fcd20334f10aca000e6e3900d47": {
          "model_module": "@jupyter-widgets/controls",
          "model_name": "ProgressStyleModel",
          "state": {
            "_view_name": "StyleView",
            "_model_name": "ProgressStyleModel",
            "description_width": "",
            "_view_module": "@jupyter-widgets/base",
            "_model_module_version": "1.5.0",
            "_view_count": null,
            "_view_module_version": "1.2.0",
            "bar_color": null,
            "_model_module": "@jupyter-widgets/controls"
          }
        },
        "1622323a520a4685a7af820f4411f125": {
          "model_module": "@jupyter-widgets/base",
          "model_name": "LayoutModel",
          "state": {
            "_view_name": "LayoutView",
            "grid_template_rows": null,
            "right": null,
            "justify_content": null,
            "_view_module": "@jupyter-widgets/base",
            "overflow": null,
            "_model_module_version": "1.2.0",
            "_view_count": null,
            "flex_flow": null,
            "width": null,
            "min_width": null,
            "border": null,
            "align_items": null,
            "bottom": null,
            "_model_module": "@jupyter-widgets/base",
            "top": null,
            "grid_column": null,
            "overflow_y": null,
            "overflow_x": null,
            "grid_auto_flow": null,
            "grid_area": null,
            "grid_template_columns": null,
            "flex": null,
            "_model_name": "LayoutModel",
            "justify_items": null,
            "grid_row": null,
            "max_height": null,
            "align_content": null,
            "visibility": null,
            "align_self": null,
            "height": null,
            "min_height": null,
            "padding": null,
            "grid_auto_rows": null,
            "grid_gap": null,
            "max_width": null,
            "order": null,
            "_view_module_version": "1.2.0",
            "grid_template_areas": null,
            "object_position": null,
            "object_fit": null,
            "grid_auto_columns": null,
            "margin": null,
            "display": null,
            "left": null
          }
        },
        "8b253ed65885406a98fa8ad206c441ed": {
          "model_module": "@jupyter-widgets/controls",
          "model_name": "DescriptionStyleModel",
          "state": {
            "_view_name": "StyleView",
            "_model_name": "DescriptionStyleModel",
            "description_width": "",
            "_view_module": "@jupyter-widgets/base",
            "_model_module_version": "1.5.0",
            "_view_count": null,
            "_view_module_version": "1.2.0",
            "_model_module": "@jupyter-widgets/controls"
          }
        },
        "97a560f5590448468a05a051c7bef0cf": {
          "model_module": "@jupyter-widgets/base",
          "model_name": "LayoutModel",
          "state": {
            "_view_name": "LayoutView",
            "grid_template_rows": null,
            "right": null,
            "justify_content": null,
            "_view_module": "@jupyter-widgets/base",
            "overflow": null,
            "_model_module_version": "1.2.0",
            "_view_count": null,
            "flex_flow": null,
            "width": null,
            "min_width": null,
            "border": null,
            "align_items": null,
            "bottom": null,
            "_model_module": "@jupyter-widgets/base",
            "top": null,
            "grid_column": null,
            "overflow_y": null,
            "overflow_x": null,
            "grid_auto_flow": null,
            "grid_area": null,
            "grid_template_columns": null,
            "flex": null,
            "_model_name": "LayoutModel",
            "justify_items": null,
            "grid_row": null,
            "max_height": null,
            "align_content": null,
            "visibility": null,
            "align_self": null,
            "height": null,
            "min_height": null,
            "padding": null,
            "grid_auto_rows": null,
            "grid_gap": null,
            "max_width": null,
            "order": null,
            "_view_module_version": "1.2.0",
            "grid_template_areas": null,
            "object_position": null,
            "object_fit": null,
            "grid_auto_columns": null,
            "margin": null,
            "display": null,
            "left": null
          }
        }
      }
    }
  },
  "cells": [
    {
      "cell_type": "markdown",
      "metadata": {
        "id": "view-in-github",
        "colab_type": "text"
      },
      "source": [
        "<a href=\"https://colab.research.google.com/github/naywin-programmer/basic_tensorflow/blob/master/03_Fashion_MNIST_With_TensorFlow.ipynb\" target=\"_parent\"><img src=\"https://colab.research.google.com/assets/colab-badge.svg\" alt=\"Open In Colab\"/></a>"
      ]
    },
    {
      "cell_type": "code",
      "metadata": {
        "id": "zhRrilNYcJRp",
        "colab_type": "code",
        "outputId": "8a36d05a-fdac-4e6b-b806-886c603a9c98",
        "colab": {
          "base_uri": "https://localhost:8080/",
          "height": 506
        }
      },
      "source": [
        "!pip install -U tensorflow_datasets"
      ],
      "execution_count": 1,
      "outputs": [
        {
          "output_type": "stream",
          "text": [
            "Collecting tensorflow_datasets\n",
            "\u001b[?25l  Downloading https://files.pythonhosted.org/packages/80/f1/172770d86e8cd3b531b73ccb2ba5cf285ea78937ab857bd958a77ed247e3/tensorflow_datasets-2.1.0-py3-none-any.whl (3.1MB)\n",
            "\r\u001b[K     |                                | 10kB 4.9MB/s eta 0:00:01\r\u001b[K     |▏                               | 20kB 6.9MB/s eta 0:00:01\r\u001b[K     |▎                               | 30kB 7.8MB/s eta 0:00:01\r\u001b[K     |▍                               | 40kB 7.2MB/s eta 0:00:01\r\u001b[K     |▌                               | 51kB 7.5MB/s eta 0:00:01\r\u001b[K     |▋                               | 61kB 8.0MB/s eta 0:00:01\r\u001b[K     |▊                               | 71kB 7.9MB/s eta 0:00:01\r\u001b[K     |▉                               | 81kB 8.3MB/s eta 0:00:01\r\u001b[K     |█                               | 92kB 8.0MB/s eta 0:00:01\r\u001b[K     |█                               | 102kB 8.4MB/s eta 0:00:01\r\u001b[K     |█▏                              | 112kB 8.4MB/s eta 0:00:01\r\u001b[K     |█▎                              | 122kB 8.4MB/s eta 0:00:01\r\u001b[K     |█▍                              | 133kB 8.4MB/s eta 0:00:01\r\u001b[K     |█▌                              | 143kB 8.4MB/s eta 0:00:01\r\u001b[K     |█▋                              | 153kB 8.4MB/s eta 0:00:01\r\u001b[K     |█▊                              | 163kB 8.4MB/s eta 0:00:01\r\u001b[K     |█▊                              | 174kB 8.4MB/s eta 0:00:01\r\u001b[K     |█▉                              | 184kB 8.4MB/s eta 0:00:01\r\u001b[K     |██                              | 194kB 8.4MB/s eta 0:00:01\r\u001b[K     |██                              | 204kB 8.4MB/s eta 0:00:01\r\u001b[K     |██▏                             | 215kB 8.4MB/s eta 0:00:01\r\u001b[K     |██▎                             | 225kB 8.4MB/s eta 0:00:01\r\u001b[K     |██▍                             | 235kB 8.4MB/s eta 0:00:01\r\u001b[K     |██▌                             | 245kB 8.4MB/s eta 0:00:01\r\u001b[K     |██▋                             | 256kB 8.4MB/s eta 0:00:01\r\u001b[K     |██▊                             | 266kB 8.4MB/s eta 0:00:01\r\u001b[K     |██▉                             | 276kB 8.4MB/s eta 0:00:01\r\u001b[K     |███                             | 286kB 8.4MB/s eta 0:00:01\r\u001b[K     |███                             | 296kB 8.4MB/s eta 0:00:01\r\u001b[K     |███▏                            | 307kB 8.4MB/s eta 0:00:01\r\u001b[K     |███▎                            | 317kB 8.4MB/s eta 0:00:01\r\u001b[K     |███▍                            | 327kB 8.4MB/s eta 0:00:01\r\u001b[K     |███▍                            | 337kB 8.4MB/s eta 0:00:01\r\u001b[K     |███▌                            | 348kB 8.4MB/s eta 0:00:01\r\u001b[K     |███▋                            | 358kB 8.4MB/s eta 0:00:01\r\u001b[K     |███▊                            | 368kB 8.4MB/s eta 0:00:01\r\u001b[K     |███▉                            | 378kB 8.4MB/s eta 0:00:01\r\u001b[K     |████                            | 389kB 8.4MB/s eta 0:00:01\r\u001b[K     |████                            | 399kB 8.4MB/s eta 0:00:01\r\u001b[K     |████▏                           | 409kB 8.4MB/s eta 0:00:01\r\u001b[K     |████▎                           | 419kB 8.4MB/s eta 0:00:01\r\u001b[K     |████▍                           | 430kB 8.4MB/s eta 0:00:01\r\u001b[K     |████▌                           | 440kB 8.4MB/s eta 0:00:01\r\u001b[K     |████▋                           | 450kB 8.4MB/s eta 0:00:01\r\u001b[K     |████▊                           | 460kB 8.4MB/s eta 0:00:01\r\u001b[K     |████▉                           | 471kB 8.4MB/s eta 0:00:01\r\u001b[K     |█████                           | 481kB 8.4MB/s eta 0:00:01\r\u001b[K     |█████                           | 491kB 8.4MB/s eta 0:00:01\r\u001b[K     |█████▏                          | 501kB 8.4MB/s eta 0:00:01\r\u001b[K     |█████▏                          | 512kB 8.4MB/s eta 0:00:01\r\u001b[K     |█████▎                          | 522kB 8.4MB/s eta 0:00:01\r\u001b[K     |█████▍                          | 532kB 8.4MB/s eta 0:00:01\r\u001b[K     |█████▌                          | 542kB 8.4MB/s eta 0:00:01\r\u001b[K     |█████▋                          | 552kB 8.4MB/s eta 0:00:01\r\u001b[K     |█████▊                          | 563kB 8.4MB/s eta 0:00:01\r\u001b[K     |█████▉                          | 573kB 8.4MB/s eta 0:00:01\r\u001b[K     |██████                          | 583kB 8.4MB/s eta 0:00:01\r\u001b[K     |██████                          | 593kB 8.4MB/s eta 0:00:01\r\u001b[K     |██████▏                         | 604kB 8.4MB/s eta 0:00:01\r\u001b[K     |██████▎                         | 614kB 8.4MB/s eta 0:00:01\r\u001b[K     |██████▍                         | 624kB 8.4MB/s eta 0:00:01\r\u001b[K     |██████▌                         | 634kB 8.4MB/s eta 0:00:01\r\u001b[K     |██████▋                         | 645kB 8.4MB/s eta 0:00:01\r\u001b[K     |██████▊                         | 655kB 8.4MB/s eta 0:00:01\r\u001b[K     |██████▉                         | 665kB 8.4MB/s eta 0:00:01\r\u001b[K     |██████▉                         | 675kB 8.4MB/s eta 0:00:01\r\u001b[K     |███████                         | 686kB 8.4MB/s eta 0:00:01\r\u001b[K     |███████                         | 696kB 8.4MB/s eta 0:00:01\r\u001b[K     |███████▏                        | 706kB 8.4MB/s eta 0:00:01\r\u001b[K     |███████▎                        | 716kB 8.4MB/s eta 0:00:01\r\u001b[K     |███████▍                        | 727kB 8.4MB/s eta 0:00:01\r\u001b[K     |███████▌                        | 737kB 8.4MB/s eta 0:00:01\r\u001b[K     |███████▋                        | 747kB 8.4MB/s eta 0:00:01\r\u001b[K     |███████▊                        | 757kB 8.4MB/s eta 0:00:01\r\u001b[K     |███████▉                        | 768kB 8.4MB/s eta 0:00:01\r\u001b[K     |████████                        | 778kB 8.4MB/s eta 0:00:01\r\u001b[K     |████████                        | 788kB 8.4MB/s eta 0:00:01\r\u001b[K     |████████▏                       | 798kB 8.4MB/s eta 0:00:01\r\u001b[K     |████████▎                       | 808kB 8.4MB/s eta 0:00:01\r\u001b[K     |████████▍                       | 819kB 8.4MB/s eta 0:00:01\r\u001b[K     |████████▌                       | 829kB 8.4MB/s eta 0:00:01\r\u001b[K     |████████▌                       | 839kB 8.4MB/s eta 0:00:01\r\u001b[K     |████████▋                       | 849kB 8.4MB/s eta 0:00:01\r\u001b[K     |████████▊                       | 860kB 8.4MB/s eta 0:00:01\r\u001b[K     |████████▉                       | 870kB 8.4MB/s eta 0:00:01\r\u001b[K     |█████████                       | 880kB 8.4MB/s eta 0:00:01\r\u001b[K     |█████████                       | 890kB 8.4MB/s eta 0:00:01\r\u001b[K     |█████████▏                      | 901kB 8.4MB/s eta 0:00:01\r\u001b[K     |█████████▎                      | 911kB 8.4MB/s eta 0:00:01\r\u001b[K     |█████████▍                      | 921kB 8.4MB/s eta 0:00:01\r\u001b[K     |█████████▌                      | 931kB 8.4MB/s eta 0:00:01\r\u001b[K     |█████████▋                      | 942kB 8.4MB/s eta 0:00:01\r\u001b[K     |█████████▊                      | 952kB 8.4MB/s eta 0:00:01\r\u001b[K     |█████████▉                      | 962kB 8.4MB/s eta 0:00:01\r\u001b[K     |██████████                      | 972kB 8.4MB/s eta 0:00:01\r\u001b[K     |██████████                      | 983kB 8.4MB/s eta 0:00:01\r\u001b[K     |██████████▏                     | 993kB 8.4MB/s eta 0:00:01\r\u001b[K     |██████████▎                     | 1.0MB 8.4MB/s eta 0:00:01\r\u001b[K     |██████████▎                     | 1.0MB 8.4MB/s eta 0:00:01\r\u001b[K     |██████████▍                     | 1.0MB 8.4MB/s eta 0:00:01\r\u001b[K     |██████████▌                     | 1.0MB 8.4MB/s eta 0:00:01\r\u001b[K     |██████████▋                     | 1.0MB 8.4MB/s eta 0:00:01\r\u001b[K     |██████████▊                     | 1.1MB 8.4MB/s eta 0:00:01\r\u001b[K     |██████████▉                     | 1.1MB 8.4MB/s eta 0:00:01\r\u001b[K     |███████████                     | 1.1MB 8.4MB/s eta 0:00:01\r\u001b[K     |███████████                     | 1.1MB 8.4MB/s eta 0:00:01\r\u001b[K     |███████████▏                    | 1.1MB 8.4MB/s eta 0:00:01\r\u001b[K     |███████████▎                    | 1.1MB 8.4MB/s eta 0:00:01\r\u001b[K     |███████████▍                    | 1.1MB 8.4MB/s eta 0:00:01\r\u001b[K     |███████████▌                    | 1.1MB 8.4MB/s eta 0:00:01\r\u001b[K     |███████████▋                    | 1.1MB 8.4MB/s eta 0:00:01\r\u001b[K     |███████████▊                    | 1.1MB 8.4MB/s eta 0:00:01\r\u001b[K     |███████████▉                    | 1.2MB 8.4MB/s eta 0:00:01\r\u001b[K     |████████████                    | 1.2MB 8.4MB/s eta 0:00:01\r\u001b[K     |████████████                    | 1.2MB 8.4MB/s eta 0:00:01\r\u001b[K     |████████████                    | 1.2MB 8.4MB/s eta 0:00:01\r\u001b[K     |████████████▏                   | 1.2MB 8.4MB/s eta 0:00:01\r\u001b[K     |████████████▎                   | 1.2MB 8.4MB/s eta 0:00:01\r\u001b[K     |████████████▍                   | 1.2MB 8.4MB/s eta 0:00:01\r\u001b[K     |████████████▌                   | 1.2MB 8.4MB/s eta 0:00:01\r\u001b[K     |████████████▋                   | 1.2MB 8.4MB/s eta 0:00:01\r\u001b[K     |████████████▊                   | 1.2MB 8.4MB/s eta 0:00:01\r\u001b[K     |████████████▉                   | 1.3MB 8.4MB/s eta 0:00:01\r\u001b[K     |█████████████                   | 1.3MB 8.4MB/s eta 0:00:01\r\u001b[K     |█████████████                   | 1.3MB 8.4MB/s eta 0:00:01\r\u001b[K     |█████████████▏                  | 1.3MB 8.4MB/s eta 0:00:01\r\u001b[K     |█████████████▎                  | 1.3MB 8.4MB/s eta 0:00:01\r\u001b[K     |█████████████▍                  | 1.3MB 8.4MB/s eta 0:00:01\r\u001b[K     |█████████████▌                  | 1.3MB 8.4MB/s eta 0:00:01\r\u001b[K     |█████████████▋                  | 1.3MB 8.4MB/s eta 0:00:01\r\u001b[K     |█████████████▊                  | 1.3MB 8.4MB/s eta 0:00:01\r\u001b[K     |█████████████▊                  | 1.4MB 8.4MB/s eta 0:00:01\r\u001b[K     |█████████████▉                  | 1.4MB 8.4MB/s eta 0:00:01\r\u001b[K     |██████████████                  | 1.4MB 8.4MB/s eta 0:00:01\r\u001b[K     |██████████████                  | 1.4MB 8.4MB/s eta 0:00:01\r\u001b[K     |██████████████▏                 | 1.4MB 8.4MB/s eta 0:00:01\r\u001b[K     |██████████████▎                 | 1.4MB 8.4MB/s eta 0:00:01\r\u001b[K     |██████████████▍                 | 1.4MB 8.4MB/s eta 0:00:01\r\u001b[K     |██████████████▌                 | 1.4MB 8.4MB/s eta 0:00:01\r\u001b[K     |██████████████▋                 | 1.4MB 8.4MB/s eta 0:00:01\r\u001b[K     |██████████████▊                 | 1.4MB 8.4MB/s eta 0:00:01\r\u001b[K     |██████████████▉                 | 1.5MB 8.4MB/s eta 0:00:01\r\u001b[K     |███████████████                 | 1.5MB 8.4MB/s eta 0:00:01\r\u001b[K     |███████████████                 | 1.5MB 8.4MB/s eta 0:00:01\r\u001b[K     |███████████████▏                | 1.5MB 8.4MB/s eta 0:00:01\r\u001b[K     |███████████████▎                | 1.5MB 8.4MB/s eta 0:00:01\r\u001b[K     |███████████████▍                | 1.5MB 8.4MB/s eta 0:00:01\r\u001b[K     |███████████████▍                | 1.5MB 8.4MB/s eta 0:00:01\r\u001b[K     |███████████████▌                | 1.5MB 8.4MB/s eta 0:00:01\r\u001b[K     |███████████████▋                | 1.5MB 8.4MB/s eta 0:00:01\r\u001b[K     |███████████████▊                | 1.5MB 8.4MB/s eta 0:00:01\r\u001b[K     |███████████████▉                | 1.6MB 8.4MB/s eta 0:00:01\r\u001b[K     |████████████████                | 1.6MB 8.4MB/s eta 0:00:01\r\u001b[K     |████████████████                | 1.6MB 8.4MB/s eta 0:00:01\r\u001b[K     |████████████████▏               | 1.6MB 8.4MB/s eta 0:00:01\r\u001b[K     |████████████████▎               | 1.6MB 8.4MB/s eta 0:00:01\r\u001b[K     |████████████████▍               | 1.6MB 8.4MB/s eta 0:00:01\r\u001b[K     |████████████████▌               | 1.6MB 8.4MB/s eta 0:00:01\r\u001b[K     |████████████████▋               | 1.6MB 8.4MB/s eta 0:00:01\r\u001b[K     |████████████████▊               | 1.6MB 8.4MB/s eta 0:00:01\r\u001b[K     |████████████████▉               | 1.6MB 8.4MB/s eta 0:00:01\r\u001b[K     |█████████████████               | 1.7MB 8.4MB/s eta 0:00:01\r\u001b[K     |█████████████████               | 1.7MB 8.4MB/s eta 0:00:01\r\u001b[K     |█████████████████               | 1.7MB 8.4MB/s eta 0:00:01\r\u001b[K     |█████████████████▏              | 1.7MB 8.4MB/s eta 0:00:01\r\u001b[K     |█████████████████▎              | 1.7MB 8.4MB/s eta 0:00:01\r\u001b[K     |█████████████████▍              | 1.7MB 8.4MB/s eta 0:00:01\r\u001b[K     |█████████████████▌              | 1.7MB 8.4MB/s eta 0:00:01\r\u001b[K     |█████████████████▋              | 1.7MB 8.4MB/s eta 0:00:01\r\u001b[K     |█████████████████▊              | 1.7MB 8.4MB/s eta 0:00:01\r\u001b[K     |█████████████████▉              | 1.8MB 8.4MB/s eta 0:00:01\r\u001b[K     |██████████████████              | 1.8MB 8.4MB/s eta 0:00:01\r\u001b[K     |██████████████████              | 1.8MB 8.4MB/s eta 0:00:01\r\u001b[K     |██████████████████▏             | 1.8MB 8.4MB/s eta 0:00:01\r\u001b[K     |██████████████████▎             | 1.8MB 8.4MB/s eta 0:00:01\r\u001b[K     |██████████████████▍             | 1.8MB 8.4MB/s eta 0:00:01\r\u001b[K     |██████████████████▌             | 1.8MB 8.4MB/s eta 0:00:01\r\u001b[K     |██████████████████▋             | 1.8MB 8.4MB/s eta 0:00:01\r\u001b[K     |██████████████████▊             | 1.8MB 8.4MB/s eta 0:00:01\r\u001b[K     |██████████████████▉             | 1.8MB 8.4MB/s eta 0:00:01\r\u001b[K     |██████████████████▉             | 1.9MB 8.4MB/s eta 0:00:01\r\u001b[K     |███████████████████             | 1.9MB 8.4MB/s eta 0:00:01\r\u001b[K     |███████████████████             | 1.9MB 8.4MB/s eta 0:00:01\r\u001b[K     |███████████████████▏            | 1.9MB 8.4MB/s eta 0:00:01\r\u001b[K     |███████████████████▎            | 1.9MB 8.4MB/s eta 0:00:01\r\u001b[K     |███████████████████▍            | 1.9MB 8.4MB/s eta 0:00:01\r\u001b[K     |███████████████████▌            | 1.9MB 8.4MB/s eta 0:00:01\r\u001b[K     |███████████████████▋            | 1.9MB 8.4MB/s eta 0:00:01\r\u001b[K     |███████████████████▊            | 1.9MB 8.4MB/s eta 0:00:01\r\u001b[K     |███████████████████▉            | 1.9MB 8.4MB/s eta 0:00:01\r\u001b[K     |████████████████████            | 2.0MB 8.4MB/s eta 0:00:01\r\u001b[K     |████████████████████            | 2.0MB 8.4MB/s eta 0:00:01\r\u001b[K     |████████████████████▏           | 2.0MB 8.4MB/s eta 0:00:01\r\u001b[K     |████████████████████▎           | 2.0MB 8.4MB/s eta 0:00:01\r\u001b[K     |████████████████████▍           | 2.0MB 8.4MB/s eta 0:00:01\r\u001b[K     |████████████████████▌           | 2.0MB 8.4MB/s eta 0:00:01\r\u001b[K     |████████████████████▌           | 2.0MB 8.4MB/s eta 0:00:01\r\u001b[K     |████████████████████▋           | 2.0MB 8.4MB/s eta 0:00:01\r\u001b[K     |████████████████████▊           | 2.0MB 8.4MB/s eta 0:00:01\r\u001b[K     |████████████████████▉           | 2.0MB 8.4MB/s eta 0:00:01\r\u001b[K     |█████████████████████           | 2.1MB 8.4MB/s eta 0:00:01\r\u001b[K     |█████████████████████           | 2.1MB 8.4MB/s eta 0:00:01\r\u001b[K     |█████████████████████▏          | 2.1MB 8.4MB/s eta 0:00:01\r\u001b[K     |█████████████████████▎          | 2.1MB 8.4MB/s eta 0:00:01\r\u001b[K     |█████████████████████▍          | 2.1MB 8.4MB/s eta 0:00:01\r\u001b[K     |█████████████████████▌          | 2.1MB 8.4MB/s eta 0:00:01\r\u001b[K     |█████████████████████▋          | 2.1MB 8.4MB/s eta 0:00:01\r\u001b[K     |█████████████████████▊          | 2.1MB 8.4MB/s eta 0:00:01\r\u001b[K     |█████████████████████▉          | 2.1MB 8.4MB/s eta 0:00:01\r\u001b[K     |██████████████████████          | 2.2MB 8.4MB/s eta 0:00:01\r\u001b[K     |██████████████████████          | 2.2MB 8.4MB/s eta 0:00:01\r\u001b[K     |██████████████████████▏         | 2.2MB 8.4MB/s eta 0:00:01\r\u001b[K     |██████████████████████▎         | 2.2MB 8.4MB/s eta 0:00:01\r\u001b[K     |██████████████████████▎         | 2.2MB 8.4MB/s eta 0:00:01\r\u001b[K     |██████████████████████▍         | 2.2MB 8.4MB/s eta 0:00:01\r\u001b[K     |██████████████████████▌         | 2.2MB 8.4MB/s eta 0:00:01\r\u001b[K     |██████████████████████▋         | 2.2MB 8.4MB/s eta 0:00:01\r\u001b[K     |██████████████████████▊         | 2.2MB 8.4MB/s eta 0:00:01\r\u001b[K     |██████████████████████▉         | 2.2MB 8.4MB/s eta 0:00:01\r\u001b[K     |███████████████████████         | 2.3MB 8.4MB/s eta 0:00:01\r\u001b[K     |███████████████████████         | 2.3MB 8.4MB/s eta 0:00:01\r\u001b[K     |███████████████████████▏        | 2.3MB 8.4MB/s eta 0:00:01\r\u001b[K     |███████████████████████▎        | 2.3MB 8.4MB/s eta 0:00:01\r\u001b[K     |███████████████████████▍        | 2.3MB 8.4MB/s eta 0:00:01\r\u001b[K     |███████████████████████▌        | 2.3MB 8.4MB/s eta 0:00:01\r\u001b[K     |███████████████████████▋        | 2.3MB 8.4MB/s eta 0:00:01\r\u001b[K     |███████████████████████▊        | 2.3MB 8.4MB/s eta 0:00:01\r\u001b[K     |███████████████████████▉        | 2.3MB 8.4MB/s eta 0:00:01\r\u001b[K     |████████████████████████        | 2.3MB 8.4MB/s eta 0:00:01\r\u001b[K     |████████████████████████        | 2.4MB 8.4MB/s eta 0:00:01\r\u001b[K     |████████████████████████        | 2.4MB 8.4MB/s eta 0:00:01\r\u001b[K     |████████████████████████▏       | 2.4MB 8.4MB/s eta 0:00:01\r\u001b[K     |████████████████████████▎       | 2.4MB 8.4MB/s eta 0:00:01\r\u001b[K     |████████████████████████▍       | 2.4MB 8.4MB/s eta 0:00:01\r\u001b[K     |████████████████████████▌       | 2.4MB 8.4MB/s eta 0:00:01\r\u001b[K     |████████████████████████▋       | 2.4MB 8.4MB/s eta 0:00:01\r\u001b[K     |████████████████████████▊       | 2.4MB 8.4MB/s eta 0:00:01\r\u001b[K     |████████████████████████▉       | 2.4MB 8.4MB/s eta 0:00:01\r\u001b[K     |█████████████████████████       | 2.4MB 8.4MB/s eta 0:00:01\r\u001b[K     |█████████████████████████       | 2.5MB 8.4MB/s eta 0:00:01\r\u001b[K     |█████████████████████████▏      | 2.5MB 8.4MB/s eta 0:00:01\r\u001b[K     |█████████████████████████▎      | 2.5MB 8.4MB/s eta 0:00:01\r\u001b[K     |█████████████████████████▍      | 2.5MB 8.4MB/s eta 0:00:01\r\u001b[K     |█████████████████████████▌      | 2.5MB 8.4MB/s eta 0:00:01\r\u001b[K     |█████████████████████████▋      | 2.5MB 8.4MB/s eta 0:00:01\r\u001b[K     |█████████████████████████▋      | 2.5MB 8.4MB/s eta 0:00:01\r\u001b[K     |█████████████████████████▊      | 2.5MB 8.4MB/s eta 0:00:01\r\u001b[K     |█████████████████████████▉      | 2.5MB 8.4MB/s eta 0:00:01\r\u001b[K     |██████████████████████████      | 2.5MB 8.4MB/s eta 0:00:01\r\u001b[K     |██████████████████████████      | 2.6MB 8.4MB/s eta 0:00:01\r\u001b[K     |██████████████████████████▏     | 2.6MB 8.4MB/s eta 0:00:01\r\u001b[K     |██████████████████████████▎     | 2.6MB 8.4MB/s eta 0:00:01\r\u001b[K     |██████████████████████████▍     | 2.6MB 8.4MB/s eta 0:00:01\r\u001b[K     |██████████████████████████▌     | 2.6MB 8.4MB/s eta 0:00:01\r\u001b[K     |██████████████████████████▋     | 2.6MB 8.4MB/s eta 0:00:01\r\u001b[K     |██████████████████████████▊     | 2.6MB 8.4MB/s eta 0:00:01\r\u001b[K     |██████████████████████████▉     | 2.6MB 8.4MB/s eta 0:00:01\r\u001b[K     |███████████████████████████     | 2.6MB 8.4MB/s eta 0:00:01\r\u001b[K     |███████████████████████████     | 2.7MB 8.4MB/s eta 0:00:01\r\u001b[K     |███████████████████████████▏    | 2.7MB 8.4MB/s eta 0:00:01\r\u001b[K     |███████████████████████████▎    | 2.7MB 8.4MB/s eta 0:00:01\r\u001b[K     |███████████████████████████▍    | 2.7MB 8.4MB/s eta 0:00:01\r\u001b[K     |███████████████████████████▍    | 2.7MB 8.4MB/s eta 0:00:01\r\u001b[K     |███████████████████████████▌    | 2.7MB 8.4MB/s eta 0:00:01\r\u001b[K     |███████████████████████████▋    | 2.7MB 8.4MB/s eta 0:00:01\r\u001b[K     |███████████████████████████▊    | 2.7MB 8.4MB/s eta 0:00:01\r\u001b[K     |███████████████████████████▉    | 2.7MB 8.4MB/s eta 0:00:01\r\u001b[K     |████████████████████████████    | 2.7MB 8.4MB/s eta 0:00:01\r\u001b[K     |████████████████████████████    | 2.8MB 8.4MB/s eta 0:00:01\r\u001b[K     |████████████████████████████▏   | 2.8MB 8.4MB/s eta 0:00:01\r\u001b[K     |████████████████████████████▎   | 2.8MB 8.4MB/s eta 0:00:01\r\u001b[K     |████████████████████████████▍   | 2.8MB 8.4MB/s eta 0:00:01\r\u001b[K     |████████████████████████████▌   | 2.8MB 8.4MB/s eta 0:00:01\r\u001b[K     |████████████████████████████▋   | 2.8MB 8.4MB/s eta 0:00:01\r\u001b[K     |████████████████████████████▊   | 2.8MB 8.4MB/s eta 0:00:01\r\u001b[K     |████████████████████████████▉   | 2.8MB 8.4MB/s eta 0:00:01\r\u001b[K     |█████████████████████████████   | 2.8MB 8.4MB/s eta 0:00:01\r\u001b[K     |█████████████████████████████   | 2.8MB 8.4MB/s eta 0:00:01\r\u001b[K     |█████████████████████████████   | 2.9MB 8.4MB/s eta 0:00:01\r\u001b[K     |█████████████████████████████▏  | 2.9MB 8.4MB/s eta 0:00:01\r\u001b[K     |█████████████████████████████▎  | 2.9MB 8.4MB/s eta 0:00:01\r\u001b[K     |█████████████████████████████▍  | 2.9MB 8.4MB/s eta 0:00:01\r\u001b[K     |█████████████████████████████▌  | 2.9MB 8.4MB/s eta 0:00:01\r\u001b[K     |█████████████████████████████▋  | 2.9MB 8.4MB/s eta 0:00:01\r\u001b[K     |█████████████████████████████▊  | 2.9MB 8.4MB/s eta 0:00:01\r\u001b[K     |█████████████████████████████▉  | 2.9MB 8.4MB/s eta 0:00:01\r\u001b[K     |██████████████████████████████  | 2.9MB 8.4MB/s eta 0:00:01\r\u001b[K     |██████████████████████████████  | 2.9MB 8.4MB/s eta 0:00:01\r\u001b[K     |██████████████████████████████▏ | 3.0MB 8.4MB/s eta 0:00:01\r\u001b[K     |██████████████████████████████▎ | 3.0MB 8.4MB/s eta 0:00:01\r\u001b[K     |██████████████████████████████▍ | 3.0MB 8.4MB/s eta 0:00:01\r\u001b[K     |██████████████████████████████▌ | 3.0MB 8.4MB/s eta 0:00:01\r\u001b[K     |██████████████████████████████▋ | 3.0MB 8.4MB/s eta 0:00:01\r\u001b[K     |██████████████████████████████▊ | 3.0MB 8.4MB/s eta 0:00:01\r\u001b[K     |██████████████████████████████▊ | 3.0MB 8.4MB/s eta 0:00:01\r\u001b[K     |██████████████████████████████▉ | 3.0MB 8.4MB/s eta 0:00:01\r\u001b[K     |███████████████████████████████ | 3.0MB 8.4MB/s eta 0:00:01\r\u001b[K     |███████████████████████████████ | 3.1MB 8.4MB/s eta 0:00:01\r\u001b[K     |███████████████████████████████▏| 3.1MB 8.4MB/s eta 0:00:01\r\u001b[K     |███████████████████████████████▎| 3.1MB 8.4MB/s eta 0:00:01\r\u001b[K     |███████████████████████████████▍| 3.1MB 8.4MB/s eta 0:00:01\r\u001b[K     |███████████████████████████████▌| 3.1MB 8.4MB/s eta 0:00:01\r\u001b[K     |███████████████████████████████▋| 3.1MB 8.4MB/s eta 0:00:01\r\u001b[K     |███████████████████████████████▊| 3.1MB 8.4MB/s eta 0:00:01\r\u001b[K     |███████████████████████████████▉| 3.1MB 8.4MB/s eta 0:00:01\r\u001b[K     |████████████████████████████████| 3.1MB 8.4MB/s eta 0:00:01\r\u001b[K     |████████████████████████████████| 3.1MB 8.4MB/s \n",
            "\u001b[?25hRequirement already satisfied, skipping upgrade: six in /usr/local/lib/python3.6/dist-packages (from tensorflow_datasets) (1.12.0)\n",
            "Requirement already satisfied, skipping upgrade: tensorflow-metadata in /usr/local/lib/python3.6/dist-packages (from tensorflow_datasets) (0.21.1)\n",
            "Requirement already satisfied, skipping upgrade: termcolor in /usr/local/lib/python3.6/dist-packages (from tensorflow_datasets) (1.1.0)\n",
            "Requirement already satisfied, skipping upgrade: wrapt in /usr/local/lib/python3.6/dist-packages (from tensorflow_datasets) (1.11.2)\n",
            "Requirement already satisfied, skipping upgrade: attrs>=18.1.0 in /usr/local/lib/python3.6/dist-packages (from tensorflow_datasets) (19.3.0)\n",
            "Requirement already satisfied, skipping upgrade: future in /usr/local/lib/python3.6/dist-packages (from tensorflow_datasets) (0.16.0)\n",
            "Requirement already satisfied, skipping upgrade: tqdm in /usr/local/lib/python3.6/dist-packages (from tensorflow_datasets) (4.28.1)\n",
            "Requirement already satisfied, skipping upgrade: numpy in /usr/local/lib/python3.6/dist-packages (from tensorflow_datasets) (1.17.5)\n",
            "Requirement already satisfied, skipping upgrade: absl-py in /usr/local/lib/python3.6/dist-packages (from tensorflow_datasets) (0.9.0)\n",
            "Requirement already satisfied, skipping upgrade: dill in /usr/local/lib/python3.6/dist-packages (from tensorflow_datasets) (0.3.1.1)\n",
            "Requirement already satisfied, skipping upgrade: promise in /usr/local/lib/python3.6/dist-packages (from tensorflow_datasets) (2.3)\n",
            "Requirement already satisfied, skipping upgrade: protobuf>=3.6.1 in /usr/local/lib/python3.6/dist-packages (from tensorflow_datasets) (3.10.0)\n",
            "Requirement already satisfied, skipping upgrade: requests>=2.19.0 in /usr/local/lib/python3.6/dist-packages (from tensorflow_datasets) (2.21.0)\n",
            "Requirement already satisfied, skipping upgrade: googleapis-common-protos in /usr/local/lib/python3.6/dist-packages (from tensorflow-metadata->tensorflow_datasets) (1.51.0)\n",
            "Requirement already satisfied, skipping upgrade: setuptools in /usr/local/lib/python3.6/dist-packages (from protobuf>=3.6.1->tensorflow_datasets) (45.2.0)\n",
            "Requirement already satisfied, skipping upgrade: certifi>=2017.4.17 in /usr/local/lib/python3.6/dist-packages (from requests>=2.19.0->tensorflow_datasets) (2019.11.28)\n",
            "Requirement already satisfied, skipping upgrade: chardet<3.1.0,>=3.0.2 in /usr/local/lib/python3.6/dist-packages (from requests>=2.19.0->tensorflow_datasets) (3.0.4)\n",
            "Requirement already satisfied, skipping upgrade: idna<2.9,>=2.5 in /usr/local/lib/python3.6/dist-packages (from requests>=2.19.0->tensorflow_datasets) (2.8)\n",
            "Requirement already satisfied, skipping upgrade: urllib3<1.25,>=1.21.1 in /usr/local/lib/python3.6/dist-packages (from requests>=2.19.0->tensorflow_datasets) (1.24.3)\n",
            "Installing collected packages: tensorflow-datasets\n",
            "  Found existing installation: tensorflow-datasets 2.0.0\n",
            "    Uninstalling tensorflow-datasets-2.0.0:\n",
            "      Successfully uninstalled tensorflow-datasets-2.0.0\n",
            "Successfully installed tensorflow-datasets-2.1.0\n"
          ],
          "name": "stdout"
        }
      ]
    },
    {
      "cell_type": "code",
      "metadata": {
        "id": "Ng53fkGhggfS",
        "colab_type": "code",
        "outputId": "ee1a7322-289e-40ec-9f2a-e27a71f1543b",
        "colab": {
          "base_uri": "https://localhost:8080/",
          "height": 81
        }
      },
      "source": [
        "from __future__ import absolute_import, division, print_function\n",
        "\n",
        "# import tf and tensorflow_dataset\n",
        "import tensorflow as tf\n",
        "import tensorflow_datasets as tfds\n",
        "tf.logging.set_verbosity(tf.logging.ERROR)\n",
        "\n",
        "# Helper libs\n",
        "import math\n",
        "import numpy as np\n",
        "import matplotlib.pyplot as plt\n",
        "\n",
        "# imporve progress bar display\n",
        "import tqdm\n",
        "import tqdm.auto\n",
        "tqdm.tqdm = tqdm.auto.tqdm\n",
        "\n",
        "print(tf.__version__)\n",
        "\n",
        "tf.enable_eager_execution()"
      ],
      "execution_count": 2,
      "outputs": [
        {
          "output_type": "display_data",
          "data": {
            "text/html": [
              "<p style=\"color: red;\">\n",
              "The default version of TensorFlow in Colab will soon switch to TensorFlow 2.x.<br>\n",
              "We recommend you <a href=\"https://www.tensorflow.org/guide/migrate\" target=\"_blank\">upgrade</a> now \n",
              "or ensure your notebook will continue to use TensorFlow 1.x via the <code>%tensorflow_version 1.x</code> magic:\n",
              "<a href=\"https://colab.research.google.com/notebooks/tensorflow_version.ipynb\" target=\"_blank\">more info</a>.</p>\n"
            ],
            "text/plain": [
              "<IPython.core.display.HTML object>"
            ]
          },
          "metadata": {
            "tags": []
          }
        },
        {
          "output_type": "stream",
          "text": [
            "1.15.0\n"
          ],
          "name": "stdout"
        }
      ]
    },
    {
      "cell_type": "code",
      "metadata": {
        "id": "LWOqlt1qhgmn",
        "colab_type": "code",
        "colab": {
          "base_uri": "https://localhost:8080/",
          "height": 336,
          "referenced_widgets": [
            "aabbc40274de4d3c978c9051c4ff541b",
            "8a8d314e7a2c4bd2a2ee9b68c9c0c9f7",
            "c0fe835af6d84dc0876fabb215298337",
            "b9df4e44489f4ae29d0b9df2c3c5962c",
            "d201181d8297440286f4699310b51513",
            "9ca781491d294e3391824fdd9d9431e5",
            "9d70e4ca393045e6908eb6e07dc81e65",
            "d4603b447187425681e8b46b1cc8ec9d",
            "8ee6a7c3bd4c4d20bafca33402d7ca29",
            "8f9706ea8f104c9e8b0c823f59bf2296",
            "a7bd2536c7e3469ea7e6051d9224f2c5",
            "c869123a4e904cba82ad7df59bb2c7de",
            "3cc7f7019189464a9751e0d499aebade",
            "fd998a87d43440da840ad547ce550a79",
            "0d04382b8eb040e186919010d2346d23",
            "ab18b99f790a475fa46bb21d72509cd5",
            "844981c92592444e98fef2c69979a6b8",
            "f0130abd517841d6bd479ff6acc2ec88",
            "2497a6b809204944b1aac38ef63bfb19",
            "1949c6dce41c44d8bdcda7c7aa73b1b6",
            "bcd8995b3f564d5bab26634de26a3c63",
            "c62b7b360c0a40eda6bc52b3ab90ab9d",
            "34b365139f78497e8e9420a48659de51",
            "15d47b10f88e40b6a1939545174ca07a",
            "5a2fceeec8e54207a8a3b8175ca2faed",
            "aea4d1b5fa90415cabc92a4020cc901f",
            "cf1ae1feb1b345049fc34b659bdd86bd",
            "64f20368f4dc4304bed607751205e2a4",
            "9a5c180f16594898bcd2167403dc9516",
            "f3fe6a6809274b6d8a640a44055f5ea6",
            "d454e85e458742c8b54e50651b4df337",
            "25a6d5cc2c4d408aa75243c97af90bda",
            "dfd091ccbd154c80bd2a593c9653959f",
            "47929fe08fc241cca1ede37992224423",
            "38360b1422d0469c87bba5a6c2718fe3",
            "bc799eeccaed43c3a1fb055e945d103b",
            "14585f8d31af46f3800461f827f73f56",
            "3fbf9f84c48846e18f6bbe4a97a5d2f7",
            "4831f6581b59452ca0d21bb2a80da2a9",
            "70c9609366754ba08433d27d8a6f8b48",
            "05c38c34e9c64b74929c13f711431e31",
            "52d2f6eb05724ee4bf645e51894afb71",
            "b2ee4b6ddb9b422f845c407711d11b9d",
            "a6a5cd9008c245929dc7a1356d335658",
            "d823bea48641450b906db7dc8d0c2f71",
            "da7ee50b65334ffd81aff9260a006056",
            "cd67ddca191549bdba0de5105e4047c7",
            "b1f70b145f7146258a921b7cb12b1c74",
            "3c23eb3214ed47929c45375b239eb41c",
            "0522086dc56f4efc9af1351f1bb6ea59",
            "76c4dd601db047479f25b2a44b8e971c",
            "c84d9f76b8fa4fb489559bdf798f4258",
            "be339fcd20334f10aca000e6e3900d47",
            "1622323a520a4685a7af820f4411f125",
            "8b253ed65885406a98fa8ad206c441ed",
            "97a560f5590448468a05a051c7bef0cf"
          ]
        },
        "outputId": "c84b0c19-fbfd-46fd-d72c-c0bab48495fa"
      },
      "source": [
        "dataset, metadata = tfds.load('fashion_mnist', as_supervised=True, with_info=True)\n",
        "train_dataset, test_dataset = dataset['train'], dataset['test']"
      ],
      "execution_count": 3,
      "outputs": [
        {
          "output_type": "stream",
          "text": [
            "\u001b[1mDownloading and preparing dataset fashion_mnist/3.0.0 (download: 29.45 MiB, generated: Unknown size, total: 29.45 MiB) to /root/tensorflow_datasets/fashion_mnist/3.0.0...\u001b[0m\n"
          ],
          "name": "stdout"
        },
        {
          "output_type": "display_data",
          "data": {
            "application/vnd.jupyter.widget-view+json": {
              "model_id": "aabbc40274de4d3c978c9051c4ff541b",
              "version_minor": 0,
              "version_major": 2
            },
            "text/plain": [
              "HBox(children=(IntProgress(value=1, bar_style='info', description='Dl Completed...', max=1, style=ProgressStyl…"
            ]
          },
          "metadata": {
            "tags": []
          }
        },
        {
          "output_type": "display_data",
          "data": {
            "application/vnd.jupyter.widget-view+json": {
              "model_id": "8ee6a7c3bd4c4d20bafca33402d7ca29",
              "version_minor": 0,
              "version_major": 2
            },
            "text/plain": [
              "HBox(children=(IntProgress(value=1, bar_style='info', description='Dl Size...', max=1, style=ProgressStyle(des…"
            ]
          },
          "metadata": {
            "tags": []
          }
        },
        {
          "output_type": "display_data",
          "data": {
            "application/vnd.jupyter.widget-view+json": {
              "model_id": "844981c92592444e98fef2c69979a6b8",
              "version_minor": 0,
              "version_major": 2
            },
            "text/plain": [
              "HBox(children=(IntProgress(value=1, bar_style='info', description='Extraction completed...', max=1, style=Prog…"
            ]
          },
          "metadata": {
            "tags": []
          }
        },
        {
          "output_type": "stream",
          "text": [
            "\n",
            "\n",
            "\n",
            "\n"
          ],
          "name": "stdout"
        },
        {
          "output_type": "display_data",
          "data": {
            "application/vnd.jupyter.widget-view+json": {
              "model_id": "5a2fceeec8e54207a8a3b8175ca2faed",
              "version_minor": 0,
              "version_major": 2
            },
            "text/plain": [
              "HBox(children=(IntProgress(value=1, bar_style='info', max=1), HTML(value='')))"
            ]
          },
          "metadata": {
            "tags": []
          }
        },
        {
          "output_type": "stream",
          "text": [
            "\rShuffling and writing examples to /root/tensorflow_datasets/fashion_mnist/3.0.0.incomplete524UE9/fashion_mnist-train.tfrecord\n"
          ],
          "name": "stdout"
        },
        {
          "output_type": "display_data",
          "data": {
            "application/vnd.jupyter.widget-view+json": {
              "model_id": "dfd091ccbd154c80bd2a593c9653959f",
              "version_minor": 0,
              "version_major": 2
            },
            "text/plain": [
              "HBox(children=(IntProgress(value=0, max=60000), HTML(value='')))"
            ]
          },
          "metadata": {
            "tags": []
          }
        },
        {
          "output_type": "stream",
          "text": [
            "\r"
          ],
          "name": "stdout"
        },
        {
          "output_type": "display_data",
          "data": {
            "application/vnd.jupyter.widget-view+json": {
              "model_id": "05c38c34e9c64b74929c13f711431e31",
              "version_minor": 0,
              "version_major": 2
            },
            "text/plain": [
              "HBox(children=(IntProgress(value=1, bar_style='info', max=1), HTML(value='')))"
            ]
          },
          "metadata": {
            "tags": []
          }
        },
        {
          "output_type": "stream",
          "text": [
            "\rShuffling and writing examples to /root/tensorflow_datasets/fashion_mnist/3.0.0.incomplete524UE9/fashion_mnist-test.tfrecord\n"
          ],
          "name": "stdout"
        },
        {
          "output_type": "display_data",
          "data": {
            "application/vnd.jupyter.widget-view+json": {
              "model_id": "3c23eb3214ed47929c45375b239eb41c",
              "version_minor": 0,
              "version_major": 2
            },
            "text/plain": [
              "HBox(children=(IntProgress(value=0, max=10000), HTML(value='')))"
            ]
          },
          "metadata": {
            "tags": []
          }
        },
        {
          "output_type": "stream",
          "text": [
            "\r\u001b[1mDataset fashion_mnist downloaded and prepared to /root/tensorflow_datasets/fashion_mnist/3.0.0. Subsequent calls will reuse this data.\u001b[0m\n"
          ],
          "name": "stdout"
        }
      ]
    },
    {
      "cell_type": "code",
      "metadata": {
        "id": "zUSmWPU6igjX",
        "colab_type": "code",
        "colab": {}
      },
      "source": [
        "class_names = ['T-shirt/top', 'Trouser', 'Pullover', 'Dress', 'Coat', \n",
        "               'Sandal', 'Shirt', 'Sneaker', 'Bag', 'Ankle Boot']"
      ],
      "execution_count": 0,
      "outputs": []
    },
    {
      "cell_type": "code",
      "metadata": {
        "id": "HMW1oq0Yjaql",
        "colab_type": "code",
        "outputId": "ba61c37a-4412-4197-e928-1d3a788d5b20",
        "colab": {
          "base_uri": "https://localhost:8080/",
          "height": 52
        }
      },
      "source": [
        "num_train_examples = metadata.splits['train'].num_examples\n",
        "num_test_examples = metadata.splits['test'].num_examples\n",
        "print(\"Number of training examples: {}\".format(num_train_examples))\n",
        "print(\"Number of testing examples: {}\".format(num_test_examples))"
      ],
      "execution_count": 5,
      "outputs": [
        {
          "output_type": "stream",
          "text": [
            "Number of training examples: 60000\n",
            "Number of testing examples: 10000\n"
          ],
          "name": "stdout"
        }
      ]
    },
    {
      "cell_type": "code",
      "metadata": {
        "id": "1o9phU_Jk6Fq",
        "colab_type": "code",
        "colab": {}
      },
      "source": [
        "def normalize(images, labels):\n",
        "  images = tf.cast(images, tf.float32)\n",
        "  images /= 255\n",
        "  return images, labels\n",
        "\n",
        "train_dataset = train_dataset.map(normalize)\n",
        "test_dataset = test_dataset.map(normalize)"
      ],
      "execution_count": 0,
      "outputs": []
    },
    {
      "cell_type": "code",
      "metadata": {
        "id": "1oTkT29uYgjy",
        "colab_type": "code",
        "colab": {
          "base_uri": "https://localhost:8080/",
          "height": 269
        },
        "outputId": "6f4c3226-3938-4cca-9000-0d36aaeb2313"
      },
      "source": [
        "for image, label in test_dataset.take(1):\n",
        "  break\n",
        "\n",
        "image = image.numpy().reshape((28, 28))\n",
        "\n",
        "plt.figure()\n",
        "plt.imshow(image, cmap=plt.cm.binary)\n",
        "plt.colorbar()\n",
        "plt.grid(False)\n",
        "plt.show()"
      ],
      "execution_count": 8,
      "outputs": [
        {
          "output_type": "display_data",
          "data": {
            "image/png": "[encoded data removed]",
            "text/plain": [
              "<Figure size 432x288 with 2 Axes>"
            ]
          },
          "metadata": {
            "tags": []
          }
        }
      ]
    },
    {
      "cell_type": "code",
      "metadata": {
        "id": "QPUoiHCPZC11",
        "colab_type": "code",
        "colab": {}
      },
      "source": [
        ""
      ],
      "execution_count": 0,
      "outputs": []
    }
  ]
}